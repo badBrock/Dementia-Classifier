{
 "cells": [
  {
   "cell_type": "code",
   "execution_count": 1,
   "id": "672aeb76",
   "metadata": {},
   "outputs": [
    {
     "name": "stderr",
     "output_type": "stream",
     "text": [
      "e:\\Arthemis_Internship\\Dementia\\env\\lib\\site-packages\\tqdm\\auto.py:21: TqdmWarning: IProgress not found. Please update jupyter and ipywidgets. See https://ipywidgets.readthedocs.io/en/stable/user_install.html\n",
      "  from .autonotebook import tqdm as notebook_tqdm\n"
     ]
    },
    {
     "name": "stdout",
     "output_type": "stream",
     "text": [
      "Downloading from https://www.kaggle.com/api/v1/datasets/download/jboysen/mri-and-alzheimers?dataset_version_number=1...\n"
     ]
    },
    {
     "name": "stderr",
     "output_type": "stream",
     "text": [
      "100%|██████████| 12.6k/12.6k [00:00<00:00, 12.2MB/s]"
     ]
    },
    {
     "name": "stdout",
     "output_type": "stream",
     "text": [
      "Extracting files...\n",
      "Path to dataset files: C:\\Users\\Lenovo\\.cache\\kagglehub\\datasets\\jboysen\\mri-and-alzheimers\\versions\\1\n"
     ]
    },
    {
     "name": "stderr",
     "output_type": "stream",
     "text": [
      "\n"
     ]
    }
   ],
   "source": [
    "import kagglehub\n",
    "\n",
    "# Download latest version\n",
    "path = kagglehub.dataset_download(\"jboysen/mri-and-alzheimers\")\n",
    "\n",
    "print(\"Path to dataset files:\", path)"
   ]
  },
  {
   "cell_type": "code",
   "execution_count": 1,
   "id": "c5688df5",
   "metadata": {},
   "outputs": [],
   "source": [
    "import pandas as pd\n",
    "\n",
    "df_cs= pd.read_csv(\"data\\\\oasis_cross-sectional.csv\")\n",
    "df_l= pd.read_csv(\"data\\oasis_longitudinal.csv\")"
   ]
  },
  {
   "cell_type": "code",
   "execution_count": 8,
   "id": "82ea8741",
   "metadata": {},
   "outputs": [
    {
     "data": {
      "application/vnd.microsoft.datawrangler.viewer.v0+json": {
       "columns": [
        {
         "name": "index",
         "rawType": "int64",
         "type": "integer"
        },
        {
         "name": "ID",
         "rawType": "object",
         "type": "string"
        },
        {
         "name": "M/F",
         "rawType": "object",
         "type": "string"
        },
        {
         "name": "Hand",
         "rawType": "object",
         "type": "string"
        },
        {
         "name": "Age",
         "rawType": "int64",
         "type": "integer"
        },
        {
         "name": "Educ",
         "rawType": "float64",
         "type": "float"
        },
        {
         "name": "SES",
         "rawType": "float64",
         "type": "float"
        },
        {
         "name": "MMSE",
         "rawType": "float64",
         "type": "float"
        },
        {
         "name": "CDR",
         "rawType": "float64",
         "type": "float"
        },
        {
         "name": "eTIV",
         "rawType": "int64",
         "type": "integer"
        },
        {
         "name": "nWBV",
         "rawType": "float64",
         "type": "float"
        },
        {
         "name": "ASF",
         "rawType": "float64",
         "type": "float"
        },
        {
         "name": "Delay",
         "rawType": "float64",
         "type": "float"
        }
       ],
       "ref": "1e53a806-1fbe-4413-8374-c31e5a4dbeb8",
       "rows": [
        [
         "0",
         "OAS1_0001_MR1",
         "F",
         "R",
         "74",
         "2.0",
         "3.0",
         "29.0",
         "0.0",
         "1344",
         "0.743",
         "1.306",
         null
        ],
        [
         "1",
         "OAS1_0002_MR1",
         "F",
         "R",
         "55",
         "4.0",
         "1.0",
         "29.0",
         "0.0",
         "1147",
         "0.81",
         "1.531",
         null
        ],
        [
         "2",
         "OAS1_0003_MR1",
         "F",
         "R",
         "73",
         "4.0",
         "3.0",
         "27.0",
         "0.5",
         "1454",
         "0.708",
         "1.207",
         null
        ],
        [
         "3",
         "OAS1_0004_MR1",
         "M",
         "R",
         "28",
         null,
         null,
         null,
         null,
         "1588",
         "0.803",
         "1.105",
         null
        ],
        [
         "4",
         "OAS1_0005_MR1",
         "M",
         "R",
         "18",
         null,
         null,
         null,
         null,
         "1737",
         "0.848",
         "1.01",
         null
        ]
       ],
       "shape": {
        "columns": 12,
        "rows": 5
       }
      },
      "text/html": [
       "<div>\n",
       "<style scoped>\n",
       "    .dataframe tbody tr th:only-of-type {\n",
       "        vertical-align: middle;\n",
       "    }\n",
       "\n",
       "    .dataframe tbody tr th {\n",
       "        vertical-align: top;\n",
       "    }\n",
       "\n",
       "    .dataframe thead th {\n",
       "        text-align: right;\n",
       "    }\n",
       "</style>\n",
       "<table border=\"1\" class=\"dataframe\">\n",
       "  <thead>\n",
       "    <tr style=\"text-align: right;\">\n",
       "      <th></th>\n",
       "      <th>ID</th>\n",
       "      <th>M/F</th>\n",
       "      <th>Hand</th>\n",
       "      <th>Age</th>\n",
       "      <th>Educ</th>\n",
       "      <th>SES</th>\n",
       "      <th>MMSE</th>\n",
       "      <th>CDR</th>\n",
       "      <th>eTIV</th>\n",
       "      <th>nWBV</th>\n",
       "      <th>ASF</th>\n",
       "      <th>Delay</th>\n",
       "    </tr>\n",
       "  </thead>\n",
       "  <tbody>\n",
       "    <tr>\n",
       "      <th>0</th>\n",
       "      <td>OAS1_0001_MR1</td>\n",
       "      <td>F</td>\n",
       "      <td>R</td>\n",
       "      <td>74</td>\n",
       "      <td>2.0</td>\n",
       "      <td>3.0</td>\n",
       "      <td>29.0</td>\n",
       "      <td>0.0</td>\n",
       "      <td>1344</td>\n",
       "      <td>0.743</td>\n",
       "      <td>1.306</td>\n",
       "      <td>NaN</td>\n",
       "    </tr>\n",
       "    <tr>\n",
       "      <th>1</th>\n",
       "      <td>OAS1_0002_MR1</td>\n",
       "      <td>F</td>\n",
       "      <td>R</td>\n",
       "      <td>55</td>\n",
       "      <td>4.0</td>\n",
       "      <td>1.0</td>\n",
       "      <td>29.0</td>\n",
       "      <td>0.0</td>\n",
       "      <td>1147</td>\n",
       "      <td>0.810</td>\n",
       "      <td>1.531</td>\n",
       "      <td>NaN</td>\n",
       "    </tr>\n",
       "    <tr>\n",
       "      <th>2</th>\n",
       "      <td>OAS1_0003_MR1</td>\n",
       "      <td>F</td>\n",
       "      <td>R</td>\n",
       "      <td>73</td>\n",
       "      <td>4.0</td>\n",
       "      <td>3.0</td>\n",
       "      <td>27.0</td>\n",
       "      <td>0.5</td>\n",
       "      <td>1454</td>\n",
       "      <td>0.708</td>\n",
       "      <td>1.207</td>\n",
       "      <td>NaN</td>\n",
       "    </tr>\n",
       "    <tr>\n",
       "      <th>3</th>\n",
       "      <td>OAS1_0004_MR1</td>\n",
       "      <td>M</td>\n",
       "      <td>R</td>\n",
       "      <td>28</td>\n",
       "      <td>NaN</td>\n",
       "      <td>NaN</td>\n",
       "      <td>NaN</td>\n",
       "      <td>NaN</td>\n",
       "      <td>1588</td>\n",
       "      <td>0.803</td>\n",
       "      <td>1.105</td>\n",
       "      <td>NaN</td>\n",
       "    </tr>\n",
       "    <tr>\n",
       "      <th>4</th>\n",
       "      <td>OAS1_0005_MR1</td>\n",
       "      <td>M</td>\n",
       "      <td>R</td>\n",
       "      <td>18</td>\n",
       "      <td>NaN</td>\n",
       "      <td>NaN</td>\n",
       "      <td>NaN</td>\n",
       "      <td>NaN</td>\n",
       "      <td>1737</td>\n",
       "      <td>0.848</td>\n",
       "      <td>1.010</td>\n",
       "      <td>NaN</td>\n",
       "    </tr>\n",
       "  </tbody>\n",
       "</table>\n",
       "</div>"
      ],
      "text/plain": [
       "              ID M/F Hand  Age  Educ  SES  MMSE  CDR  eTIV   nWBV    ASF  \\\n",
       "0  OAS1_0001_MR1   F    R   74   2.0  3.0  29.0  0.0  1344  0.743  1.306   \n",
       "1  OAS1_0002_MR1   F    R   55   4.0  1.0  29.0  0.0  1147  0.810  1.531   \n",
       "2  OAS1_0003_MR1   F    R   73   4.0  3.0  27.0  0.5  1454  0.708  1.207   \n",
       "3  OAS1_0004_MR1   M    R   28   NaN  NaN   NaN  NaN  1588  0.803  1.105   \n",
       "4  OAS1_0005_MR1   M    R   18   NaN  NaN   NaN  NaN  1737  0.848  1.010   \n",
       "\n",
       "   Delay  \n",
       "0    NaN  \n",
       "1    NaN  \n",
       "2    NaN  \n",
       "3    NaN  \n",
       "4    NaN  "
      ]
     },
     "execution_count": 8,
     "metadata": {},
     "output_type": "execute_result"
    }
   ],
   "source": [
    "df_cs.head()"
   ]
  },
  {
   "cell_type": "code",
   "execution_count": 9,
   "id": "cca9a529",
   "metadata": {},
   "outputs": [
    {
     "data": {
      "application/vnd.microsoft.datawrangler.viewer.v0+json": {
       "columns": [
        {
         "name": "index",
         "rawType": "int64",
         "type": "integer"
        },
        {
         "name": "Subject ID",
         "rawType": "object",
         "type": "string"
        },
        {
         "name": "MRI ID",
         "rawType": "object",
         "type": "string"
        },
        {
         "name": "Group",
         "rawType": "object",
         "type": "string"
        },
        {
         "name": "Visit",
         "rawType": "int64",
         "type": "integer"
        },
        {
         "name": "MR Delay",
         "rawType": "int64",
         "type": "integer"
        },
        {
         "name": "M/F",
         "rawType": "object",
         "type": "string"
        },
        {
         "name": "Hand",
         "rawType": "object",
         "type": "string"
        },
        {
         "name": "Age",
         "rawType": "int64",
         "type": "integer"
        },
        {
         "name": "EDUC",
         "rawType": "int64",
         "type": "integer"
        },
        {
         "name": "SES",
         "rawType": "float64",
         "type": "float"
        },
        {
         "name": "MMSE",
         "rawType": "float64",
         "type": "float"
        },
        {
         "name": "CDR",
         "rawType": "float64",
         "type": "float"
        },
        {
         "name": "eTIV",
         "rawType": "int64",
         "type": "integer"
        },
        {
         "name": "nWBV",
         "rawType": "float64",
         "type": "float"
        },
        {
         "name": "ASF",
         "rawType": "float64",
         "type": "float"
        }
       ],
       "ref": "2be2a93e-918d-4174-af37-e64e312b221d",
       "rows": [
        [
         "0",
         "OAS2_0001",
         "OAS2_0001_MR1",
         "Nondemented",
         "1",
         "0",
         "M",
         "R",
         "87",
         "14",
         "2.0",
         "27.0",
         "0.0",
         "1987",
         "0.696",
         "0.883"
        ],
        [
         "1",
         "OAS2_0001",
         "OAS2_0001_MR2",
         "Nondemented",
         "2",
         "457",
         "M",
         "R",
         "88",
         "14",
         "2.0",
         "30.0",
         "0.0",
         "2004",
         "0.681",
         "0.876"
        ],
        [
         "2",
         "OAS2_0002",
         "OAS2_0002_MR1",
         "Demented",
         "1",
         "0",
         "M",
         "R",
         "75",
         "12",
         null,
         "23.0",
         "0.5",
         "1678",
         "0.736",
         "1.046"
        ],
        [
         "3",
         "OAS2_0002",
         "OAS2_0002_MR2",
         "Demented",
         "2",
         "560",
         "M",
         "R",
         "76",
         "12",
         null,
         "28.0",
         "0.5",
         "1738",
         "0.713",
         "1.01"
        ],
        [
         "4",
         "OAS2_0002",
         "OAS2_0002_MR3",
         "Demented",
         "3",
         "1895",
         "M",
         "R",
         "80",
         "12",
         null,
         "22.0",
         "0.5",
         "1698",
         "0.701",
         "1.034"
        ]
       ],
       "shape": {
        "columns": 15,
        "rows": 5
       }
      },
      "text/html": [
       "<div>\n",
       "<style scoped>\n",
       "    .dataframe tbody tr th:only-of-type {\n",
       "        vertical-align: middle;\n",
       "    }\n",
       "\n",
       "    .dataframe tbody tr th {\n",
       "        vertical-align: top;\n",
       "    }\n",
       "\n",
       "    .dataframe thead th {\n",
       "        text-align: right;\n",
       "    }\n",
       "</style>\n",
       "<table border=\"1\" class=\"dataframe\">\n",
       "  <thead>\n",
       "    <tr style=\"text-align: right;\">\n",
       "      <th></th>\n",
       "      <th>Subject ID</th>\n",
       "      <th>MRI ID</th>\n",
       "      <th>Group</th>\n",
       "      <th>Visit</th>\n",
       "      <th>MR Delay</th>\n",
       "      <th>M/F</th>\n",
       "      <th>Hand</th>\n",
       "      <th>Age</th>\n",
       "      <th>EDUC</th>\n",
       "      <th>SES</th>\n",
       "      <th>MMSE</th>\n",
       "      <th>CDR</th>\n",
       "      <th>eTIV</th>\n",
       "      <th>nWBV</th>\n",
       "      <th>ASF</th>\n",
       "    </tr>\n",
       "  </thead>\n",
       "  <tbody>\n",
       "    <tr>\n",
       "      <th>0</th>\n",
       "      <td>OAS2_0001</td>\n",
       "      <td>OAS2_0001_MR1</td>\n",
       "      <td>Nondemented</td>\n",
       "      <td>1</td>\n",
       "      <td>0</td>\n",
       "      <td>M</td>\n",
       "      <td>R</td>\n",
       "      <td>87</td>\n",
       "      <td>14</td>\n",
       "      <td>2.0</td>\n",
       "      <td>27.0</td>\n",
       "      <td>0.0</td>\n",
       "      <td>1987</td>\n",
       "      <td>0.696</td>\n",
       "      <td>0.883</td>\n",
       "    </tr>\n",
       "    <tr>\n",
       "      <th>1</th>\n",
       "      <td>OAS2_0001</td>\n",
       "      <td>OAS2_0001_MR2</td>\n",
       "      <td>Nondemented</td>\n",
       "      <td>2</td>\n",
       "      <td>457</td>\n",
       "      <td>M</td>\n",
       "      <td>R</td>\n",
       "      <td>88</td>\n",
       "      <td>14</td>\n",
       "      <td>2.0</td>\n",
       "      <td>30.0</td>\n",
       "      <td>0.0</td>\n",
       "      <td>2004</td>\n",
       "      <td>0.681</td>\n",
       "      <td>0.876</td>\n",
       "    </tr>\n",
       "    <tr>\n",
       "      <th>2</th>\n",
       "      <td>OAS2_0002</td>\n",
       "      <td>OAS2_0002_MR1</td>\n",
       "      <td>Demented</td>\n",
       "      <td>1</td>\n",
       "      <td>0</td>\n",
       "      <td>M</td>\n",
       "      <td>R</td>\n",
       "      <td>75</td>\n",
       "      <td>12</td>\n",
       "      <td>NaN</td>\n",
       "      <td>23.0</td>\n",
       "      <td>0.5</td>\n",
       "      <td>1678</td>\n",
       "      <td>0.736</td>\n",
       "      <td>1.046</td>\n",
       "    </tr>\n",
       "    <tr>\n",
       "      <th>3</th>\n",
       "      <td>OAS2_0002</td>\n",
       "      <td>OAS2_0002_MR2</td>\n",
       "      <td>Demented</td>\n",
       "      <td>2</td>\n",
       "      <td>560</td>\n",
       "      <td>M</td>\n",
       "      <td>R</td>\n",
       "      <td>76</td>\n",
       "      <td>12</td>\n",
       "      <td>NaN</td>\n",
       "      <td>28.0</td>\n",
       "      <td>0.5</td>\n",
       "      <td>1738</td>\n",
       "      <td>0.713</td>\n",
       "      <td>1.010</td>\n",
       "    </tr>\n",
       "    <tr>\n",
       "      <th>4</th>\n",
       "      <td>OAS2_0002</td>\n",
       "      <td>OAS2_0002_MR3</td>\n",
       "      <td>Demented</td>\n",
       "      <td>3</td>\n",
       "      <td>1895</td>\n",
       "      <td>M</td>\n",
       "      <td>R</td>\n",
       "      <td>80</td>\n",
       "      <td>12</td>\n",
       "      <td>NaN</td>\n",
       "      <td>22.0</td>\n",
       "      <td>0.5</td>\n",
       "      <td>1698</td>\n",
       "      <td>0.701</td>\n",
       "      <td>1.034</td>\n",
       "    </tr>\n",
       "  </tbody>\n",
       "</table>\n",
       "</div>"
      ],
      "text/plain": [
       "  Subject ID         MRI ID        Group  Visit  MR Delay M/F Hand  Age  EDUC  \\\n",
       "0  OAS2_0001  OAS2_0001_MR1  Nondemented      1         0   M    R   87    14   \n",
       "1  OAS2_0001  OAS2_0001_MR2  Nondemented      2       457   M    R   88    14   \n",
       "2  OAS2_0002  OAS2_0002_MR1     Demented      1         0   M    R   75    12   \n",
       "3  OAS2_0002  OAS2_0002_MR2     Demented      2       560   M    R   76    12   \n",
       "4  OAS2_0002  OAS2_0002_MR3     Demented      3      1895   M    R   80    12   \n",
       "\n",
       "   SES  MMSE  CDR  eTIV   nWBV    ASF  \n",
       "0  2.0  27.0  0.0  1987  0.696  0.883  \n",
       "1  2.0  30.0  0.0  2004  0.681  0.876  \n",
       "2  NaN  23.0  0.5  1678  0.736  1.046  \n",
       "3  NaN  28.0  0.5  1738  0.713  1.010  \n",
       "4  NaN  22.0  0.5  1698  0.701  1.034  "
      ]
     },
     "execution_count": 9,
     "metadata": {},
     "output_type": "execute_result"
    }
   ],
   "source": [
    "df_l.head()"
   ]
  },
  {
   "cell_type": "code",
   "execution_count": 11,
   "id": "89b1cea0",
   "metadata": {},
   "outputs": [
    {
     "name": "stdout",
     "output_type": "stream",
     "text": [
      "<class 'pandas.core.frame.DataFrame'>\n",
      "RangeIndex: 436 entries, 0 to 435\n",
      "Data columns (total 12 columns):\n",
      " #   Column  Non-Null Count  Dtype  \n",
      "---  ------  --------------  -----  \n",
      " 0   ID      436 non-null    object \n",
      " 1   M/F     436 non-null    object \n",
      " 2   Hand    436 non-null    object \n",
      " 3   Age     436 non-null    int64  \n",
      " 4   Educ    235 non-null    float64\n",
      " 5   SES     216 non-null    float64\n",
      " 6   MMSE    235 non-null    float64\n",
      " 7   CDR     235 non-null    float64\n",
      " 8   eTIV    436 non-null    int64  \n",
      " 9   nWBV    436 non-null    float64\n",
      " 10  ASF     436 non-null    float64\n",
      " 11  Delay   20 non-null     float64\n",
      "dtypes: float64(7), int64(2), object(3)\n",
      "memory usage: 41.0+ KB\n",
      "None\n",
      "----------------------------------------\n",
      "<class 'pandas.core.frame.DataFrame'>\n",
      "RangeIndex: 373 entries, 0 to 372\n",
      "Data columns (total 15 columns):\n",
      " #   Column      Non-Null Count  Dtype  \n",
      "---  ------      --------------  -----  \n",
      " 0   Subject ID  373 non-null    object \n",
      " 1   MRI ID      373 non-null    object \n",
      " 2   Group       373 non-null    object \n",
      " 3   Visit       373 non-null    int64  \n",
      " 4   MR Delay    373 non-null    int64  \n",
      " 5   M/F         373 non-null    object \n",
      " 6   Hand        373 non-null    object \n",
      " 7   Age         373 non-null    int64  \n",
      " 8   EDUC        373 non-null    int64  \n",
      " 9   SES         354 non-null    float64\n",
      " 10  MMSE        371 non-null    float64\n",
      " 11  CDR         373 non-null    float64\n",
      " 12  eTIV        373 non-null    int64  \n",
      " 13  nWBV        373 non-null    float64\n",
      " 14  ASF         373 non-null    float64\n",
      "dtypes: float64(5), int64(5), object(5)\n",
      "memory usage: 43.8+ KB\n",
      "None\n"
     ]
    }
   ],
   "source": [
    "print(df_cs.info())\n",
    "print(\"-\" * 40)\n",
    "print(df_l.info())"
   ]
  },
  {
   "cell_type": "code",
   "execution_count": 14,
   "id": "2ba495d7",
   "metadata": {},
   "outputs": [],
   "source": [
    "A = df_l.columns"
   ]
  },
  {
   "cell_type": "code",
   "execution_count": 15,
   "id": "1e5f08b8",
   "metadata": {},
   "outputs": [],
   "source": [
    "B = df_cs.columns"
   ]
  },
  {
   "cell_type": "code",
   "execution_count": 16,
   "id": "af368333",
   "metadata": {},
   "outputs": [
    {
     "name": "stdout",
     "output_type": "stream",
     "text": [
      "Index(['Subject ID', 'MRI ID', 'Group', 'Visit', 'MR Delay', 'M/F', 'Hand',\n",
      "       'Age', 'EDUC', 'SES', 'MMSE', 'CDR', 'eTIV', 'nWBV', 'ASF'],\n",
      "      dtype='object')\n",
      "----------------------------------------\n",
      "Index(['ID', 'M/F', 'Hand', 'Age', 'Educ', 'SES', 'MMSE', 'CDR', 'eTIV',\n",
      "       'nWBV', 'ASF', 'Delay'],\n",
      "      dtype='object')\n"
     ]
    }
   ],
   "source": [
    "print(A)\n",
    "print(\"-\" * 40)\n",
    "print(B)"
   ]
  },
  {
   "cell_type": "code",
   "execution_count": 24,
   "id": "09b8e75b",
   "metadata": {},
   "outputs": [],
   "source": [
    "A=A.to_list()\n",
    "B=B.to_list()"
   ]
  },
  {
   "cell_type": "code",
   "execution_count": 25,
   "id": "3a8a4278",
   "metadata": {},
   "outputs": [],
   "source": [
    "for i in A:\n",
    "    if i not in B:\n",
    "        B.append(i)"
   ]
  },
  {
   "cell_type": "code",
   "execution_count": 32,
   "id": "f99b4c8d",
   "metadata": {},
   "outputs": [],
   "source": [
    "count = 0\n",
    "for i in B:\n",
    "    count = count + 1"
   ]
  },
  {
   "cell_type": "code",
   "execution_count": 33,
   "id": "47078a88",
   "metadata": {},
   "outputs": [
    {
     "data": {
      "text/plain": [
       "18"
      ]
     },
     "execution_count": 33,
     "metadata": {},
     "output_type": "execute_result"
    }
   ],
   "source": [
    "count"
   ]
  },
  {
   "cell_type": "code",
   "execution_count": null,
   "id": "09e69d91",
   "metadata": {},
   "outputs": [],
   "source": [
    "# SO we have to deal with these 18 columns"
   ]
  },
  {
   "cell_type": "code",
   "execution_count": 34,
   "id": "ec8b067d",
   "metadata": {},
   "outputs": [
    {
     "data": {
      "application/vnd.microsoft.datawrangler.viewer.v0+json": {
       "columns": [
        {
         "name": "index",
         "rawType": "int64",
         "type": "integer"
        },
        {
         "name": "Subject ID",
         "rawType": "object",
         "type": "string"
        },
        {
         "name": "MRI ID",
         "rawType": "object",
         "type": "string"
        },
        {
         "name": "Group",
         "rawType": "object",
         "type": "string"
        },
        {
         "name": "Visit",
         "rawType": "int64",
         "type": "integer"
        },
        {
         "name": "MR Delay",
         "rawType": "int64",
         "type": "integer"
        },
        {
         "name": "M/F",
         "rawType": "object",
         "type": "string"
        },
        {
         "name": "Hand",
         "rawType": "object",
         "type": "string"
        },
        {
         "name": "Age",
         "rawType": "int64",
         "type": "integer"
        },
        {
         "name": "EDUC",
         "rawType": "int64",
         "type": "integer"
        },
        {
         "name": "SES",
         "rawType": "float64",
         "type": "float"
        },
        {
         "name": "MMSE",
         "rawType": "float64",
         "type": "float"
        },
        {
         "name": "CDR",
         "rawType": "float64",
         "type": "float"
        },
        {
         "name": "eTIV",
         "rawType": "int64",
         "type": "integer"
        },
        {
         "name": "nWBV",
         "rawType": "float64",
         "type": "float"
        },
        {
         "name": "ASF",
         "rawType": "float64",
         "type": "float"
        }
       ],
       "ref": "6f1a5a2d-45ea-4a58-98f2-2e6b4f503567",
       "rows": [
        [
         "0",
         "OAS2_0001",
         "OAS2_0001_MR1",
         "Nondemented",
         "1",
         "0",
         "M",
         "R",
         "87",
         "14",
         "2.0",
         "27.0",
         "0.0",
         "1987",
         "0.696",
         "0.883"
        ],
        [
         "1",
         "OAS2_0001",
         "OAS2_0001_MR2",
         "Nondemented",
         "2",
         "457",
         "M",
         "R",
         "88",
         "14",
         "2.0",
         "30.0",
         "0.0",
         "2004",
         "0.681",
         "0.876"
        ],
        [
         "2",
         "OAS2_0002",
         "OAS2_0002_MR1",
         "Demented",
         "1",
         "0",
         "M",
         "R",
         "75",
         "12",
         null,
         "23.0",
         "0.5",
         "1678",
         "0.736",
         "1.046"
        ],
        [
         "3",
         "OAS2_0002",
         "OAS2_0002_MR2",
         "Demented",
         "2",
         "560",
         "M",
         "R",
         "76",
         "12",
         null,
         "28.0",
         "0.5",
         "1738",
         "0.713",
         "1.01"
        ],
        [
         "4",
         "OAS2_0002",
         "OAS2_0002_MR3",
         "Demented",
         "3",
         "1895",
         "M",
         "R",
         "80",
         "12",
         null,
         "22.0",
         "0.5",
         "1698",
         "0.701",
         "1.034"
        ]
       ],
       "shape": {
        "columns": 15,
        "rows": 5
       }
      },
      "text/html": [
       "<div>\n",
       "<style scoped>\n",
       "    .dataframe tbody tr th:only-of-type {\n",
       "        vertical-align: middle;\n",
       "    }\n",
       "\n",
       "    .dataframe tbody tr th {\n",
       "        vertical-align: top;\n",
       "    }\n",
       "\n",
       "    .dataframe thead th {\n",
       "        text-align: right;\n",
       "    }\n",
       "</style>\n",
       "<table border=\"1\" class=\"dataframe\">\n",
       "  <thead>\n",
       "    <tr style=\"text-align: right;\">\n",
       "      <th></th>\n",
       "      <th>Subject ID</th>\n",
       "      <th>MRI ID</th>\n",
       "      <th>Group</th>\n",
       "      <th>Visit</th>\n",
       "      <th>MR Delay</th>\n",
       "      <th>M/F</th>\n",
       "      <th>Hand</th>\n",
       "      <th>Age</th>\n",
       "      <th>EDUC</th>\n",
       "      <th>SES</th>\n",
       "      <th>MMSE</th>\n",
       "      <th>CDR</th>\n",
       "      <th>eTIV</th>\n",
       "      <th>nWBV</th>\n",
       "      <th>ASF</th>\n",
       "    </tr>\n",
       "  </thead>\n",
       "  <tbody>\n",
       "    <tr>\n",
       "      <th>0</th>\n",
       "      <td>OAS2_0001</td>\n",
       "      <td>OAS2_0001_MR1</td>\n",
       "      <td>Nondemented</td>\n",
       "      <td>1</td>\n",
       "      <td>0</td>\n",
       "      <td>M</td>\n",
       "      <td>R</td>\n",
       "      <td>87</td>\n",
       "      <td>14</td>\n",
       "      <td>2.0</td>\n",
       "      <td>27.0</td>\n",
       "      <td>0.0</td>\n",
       "      <td>1987</td>\n",
       "      <td>0.696</td>\n",
       "      <td>0.883</td>\n",
       "    </tr>\n",
       "    <tr>\n",
       "      <th>1</th>\n",
       "      <td>OAS2_0001</td>\n",
       "      <td>OAS2_0001_MR2</td>\n",
       "      <td>Nondemented</td>\n",
       "      <td>2</td>\n",
       "      <td>457</td>\n",
       "      <td>M</td>\n",
       "      <td>R</td>\n",
       "      <td>88</td>\n",
       "      <td>14</td>\n",
       "      <td>2.0</td>\n",
       "      <td>30.0</td>\n",
       "      <td>0.0</td>\n",
       "      <td>2004</td>\n",
       "      <td>0.681</td>\n",
       "      <td>0.876</td>\n",
       "    </tr>\n",
       "    <tr>\n",
       "      <th>2</th>\n",
       "      <td>OAS2_0002</td>\n",
       "      <td>OAS2_0002_MR1</td>\n",
       "      <td>Demented</td>\n",
       "      <td>1</td>\n",
       "      <td>0</td>\n",
       "      <td>M</td>\n",
       "      <td>R</td>\n",
       "      <td>75</td>\n",
       "      <td>12</td>\n",
       "      <td>NaN</td>\n",
       "      <td>23.0</td>\n",
       "      <td>0.5</td>\n",
       "      <td>1678</td>\n",
       "      <td>0.736</td>\n",
       "      <td>1.046</td>\n",
       "    </tr>\n",
       "    <tr>\n",
       "      <th>3</th>\n",
       "      <td>OAS2_0002</td>\n",
       "      <td>OAS2_0002_MR2</td>\n",
       "      <td>Demented</td>\n",
       "      <td>2</td>\n",
       "      <td>560</td>\n",
       "      <td>M</td>\n",
       "      <td>R</td>\n",
       "      <td>76</td>\n",
       "      <td>12</td>\n",
       "      <td>NaN</td>\n",
       "      <td>28.0</td>\n",
       "      <td>0.5</td>\n",
       "      <td>1738</td>\n",
       "      <td>0.713</td>\n",
       "      <td>1.010</td>\n",
       "    </tr>\n",
       "    <tr>\n",
       "      <th>4</th>\n",
       "      <td>OAS2_0002</td>\n",
       "      <td>OAS2_0002_MR3</td>\n",
       "      <td>Demented</td>\n",
       "      <td>3</td>\n",
       "      <td>1895</td>\n",
       "      <td>M</td>\n",
       "      <td>R</td>\n",
       "      <td>80</td>\n",
       "      <td>12</td>\n",
       "      <td>NaN</td>\n",
       "      <td>22.0</td>\n",
       "      <td>0.5</td>\n",
       "      <td>1698</td>\n",
       "      <td>0.701</td>\n",
       "      <td>1.034</td>\n",
       "    </tr>\n",
       "  </tbody>\n",
       "</table>\n",
       "</div>"
      ],
      "text/plain": [
       "  Subject ID         MRI ID        Group  Visit  MR Delay M/F Hand  Age  EDUC  \\\n",
       "0  OAS2_0001  OAS2_0001_MR1  Nondemented      1         0   M    R   87    14   \n",
       "1  OAS2_0001  OAS2_0001_MR2  Nondemented      2       457   M    R   88    14   \n",
       "2  OAS2_0002  OAS2_0002_MR1     Demented      1         0   M    R   75    12   \n",
       "3  OAS2_0002  OAS2_0002_MR2     Demented      2       560   M    R   76    12   \n",
       "4  OAS2_0002  OAS2_0002_MR3     Demented      3      1895   M    R   80    12   \n",
       "\n",
       "   SES  MMSE  CDR  eTIV   nWBV    ASF  \n",
       "0  2.0  27.0  0.0  1987  0.696  0.883  \n",
       "1  2.0  30.0  0.0  2004  0.681  0.876  \n",
       "2  NaN  23.0  0.5  1678  0.736  1.046  \n",
       "3  NaN  28.0  0.5  1738  0.713  1.010  \n",
       "4  NaN  22.0  0.5  1698  0.701  1.034  "
      ]
     },
     "execution_count": 34,
     "metadata": {},
     "output_type": "execute_result"
    }
   ],
   "source": [
    "df_l.head()"
   ]
  },
  {
   "cell_type": "markdown",
   "id": "b178ac84",
   "metadata": {},
   "source": [
    "## Dataset Description\n",
    "\n",
    "We will be using **longitudinal MRI data** of 150 subjects aged **60 to 96** years. Each subject was scanned **at least once**, and all subjects are **right-handed**.\n",
    "\n",
    "The diagnostic grouping is as follows:\n",
    "\n",
    "- **Nondemented**: 72 subjects remained nondemented throughout the study.\n",
    "- **Demented**: 64 subjects were demented at their initial visit and remained so throughout the study.\n",
    "- **Converted**: 14 subjects were nondemented at their initial visit but were later diagnosed as demented.\n",
    "\n",
    "---\n",
    "\n",
    "## Feature Definitions\n",
    "\n",
    "| Feature | Description                                      |\n",
    "|---------|--------------------------------------------------|\n",
    "| EDUC    | Years of Education                               |\n",
    "| SES     | Socioeconomic Status                             |\n",
    "| MMSE    | Mini Mental State Examination                    |\n",
    "| CDR     | Clinical Dementia Rating                         |\n",
    "| eTIV    | Estimated Total Intracranial Volume              |\n",
    "| nWBV    | Normalized Whole Brain Volume                    |\n",
    "| ASF     | Atlas Scaling Factor                             |\n"
   ]
  },
  {
   "cell_type": "markdown",
   "id": "e19cff3c",
   "metadata": {},
   "source": [
    "## Mini–Mental State Examination (MMSE)\n",
    "\n",
    "The **Mini–Mental State Examination (MMSE)**, also known as the **Folstein test**, is a 30-point questionnaire used extensively in clinical and research settings to measure **cognitive impairment**. \n",
    "\n",
    "It is widely used in medicine and allied health for:\n",
    "\n",
    "- **Screening for dementia**\n",
    "- **Estimating severity and progression** of cognitive decline\n",
    "- **Monitoring cognitive changes** over time\n",
    "- **Assessing treatment response**\n",
    "\n",
    "> ⚠️ The MMSE is not intended to independently provide a diagnosis for any specific condition.\n",
    "\n",
    "---\n",
    "\n",
    "### What Is Cognitive Impairment?\n",
    "\n",
    "**Cognitive impairment** refers to difficulty in remembering, learning new things, concentrating, or making decisions that affect everyday life. It can range from **mild** to **severe**.\n",
    "\n",
    "---\n",
    "\n",
    "### MMSE Scoring Interpretation\n",
    "\n",
    "- **Normal Cognition**: ≥ 24 points (out of 30)\n",
    "- **Mild Impairment**: 19–23 points\n",
    "- **Moderate Impairment**: 10–18 points\n",
    "- **Severe Impairment**: ≤ 9 points\n",
    "\n",
    "> Note: The raw score may require adjustment based on **age** and **educational level**. A score of 30 does **not** rule out dementia.\n",
    "\n",
    "---\n",
    "\n",
    "### Scoring Criteria\n",
    "\n",
    "| Method        | Score     | Interpretation                                |\n",
    "|---------------|-----------|-----------------------------------------------|\n",
    "| **Single Cutoff** | <24       | Abnormal                                      |\n",
    "| **Range**         | <21       | Increased Odds of Dementia                    |\n",
    "|                   | <25       | Decreased Odds of Dementia                    |\n",
    "| **Education**     | =21       | Abnormal for 8th Grade Education              |\n",
    "|                   | <23       | Abnormal for High School Education            |\n",
    "|                   | <24       | Abnormal for College Education                |\n",
    "| **Severity**      | 24–30     | No Cognitive Impairment                       |\n",
    "|                   | 18–23     | Mild Cognitive Impairment                     |\n",
    "|                   | 0–17      | Severe Cognitive Impairment                   |\n"
   ]
  },
  {
   "cell_type": "markdown",
   "id": "a0b2bde1",
   "metadata": {},
   "source": [
    "## Clinical Dementia Rating (CDR)\n",
    "\n",
    "The **Clinical Dementia Rating (CDR)** is a **5-point scale** used to assess six domains of cognitive and functional performance relevant to **Alzheimer’s disease** and related dementias:\n",
    "\n",
    "- **Memory**\n",
    "- **Orientation**\n",
    "- **Judgment & Problem Solving**\n",
    "- **Community Affairs**\n",
    "- **Home & Hobbies**\n",
    "- **Personal Care**\n",
    "\n",
    "The ratings are based on a **semi-structured interview** with the patient and a **reliable informant** (e.g., a family member or caregiver).\n",
    "\n",
    "---\n",
    "\n",
    "### Scoring and Usage\n",
    "\n",
    "Each domain receives an individual rating, and an **overall CDR score** is computed using an algorithm. This global score is valuable for both **clinical diagnosis** and **tracking progression** over time.\n",
    "\n",
    "---\n",
    "\n",
    "### CDR Score Interpretation\n",
    "\n",
    "| Score | Description           |\n",
    "|-------|------------------------|\n",
    "| 0     | Normal                 |\n",
    "| 0.5   | Very Mild Dementia     |\n",
    "| 1     | Mild Dementia          |\n",
    "| 2     | Moderate Dementia      |\n",
    "| 3     | Severe Dementia        |\n"
   ]
  },
  {
   "cell_type": "markdown",
   "id": "098f5219",
   "metadata": {},
   "source": [
    "## Estimated Total Intracranial Volume (eTIV)\n",
    "\n",
    "**Total Intracranial Volume (TIV)** or **Estimated TIV (eTIV)** is a crucial covariate in **volumetric analyses** of the brain, particularly in studies of **neurodegenerative diseases**. It serves as a proxy for the **maximum pre-morbid brain volume** and helps control for individual differences in head size.\n",
    "\n",
    "---\n",
    "\n",
    "### Key Insights\n",
    "\n",
    "- Unlike **brain atrophy** seen in patients with **Alzheimer’s Disease (AD)**, **TIV does not vary over time**.\n",
    "- **Mean TIV** did **not differ significantly** across subject groups.\n",
    "- **No association** was found between TIV and:\n",
    "  - Age\n",
    "  - Age at symptom onset\n",
    "- **Sex** was the only significant predictor:\n",
    "  - **Men** had ~**12% larger eTIV** than women.\n",
    "\n",
    "---\n",
    "\n",
    "### Measurement Methodology\n",
    "\n",
    "- **TIV was measured** using a **semi-automated segmentation technique** on:\n",
    "  - **T1-weighted** MR images\n",
    "  - **T2-weighted** MR images\n",
    "- The study involved:\n",
    "  - 55 controls\n",
    "  - 10 AD patients\n",
    "  - 2 individuals at risk of familial AD\n",
    "- **Whole-brain volumes** were measured and **normalized** using TIV.\n",
    "\n",
    "---\n",
    "\n",
    "### Impact of TIV Normalization\n",
    "\n",
    "| Context                            | Effect of TIV Normalization                |\n",
    "|------------------------------------|--------------------------------------------|\n",
    "| Cross-sectional brain volumes      | Reduced coefficient of variation (CV) from **10.0% to 6.0%** in controls *(P < .001)* |\n",
    "| T1 vs T2 TIV comparison            | No significant difference *(P = .16)*      |\n",
    "| Serial brain-volume measurements   | Reduced voxel-scaling CV from **1.3% to 0.5%** *(P = .002)* |\n",
    "\n",
    "> ✅ TIV normalization reduces **interindividual variability** and improves **measurement consistency** in longitudinal and cross-sectional brain volume analysis.\n"
   ]
  },
  {
   "cell_type": "markdown",
   "id": "9e77a0c0",
   "metadata": {},
   "source": [
    "## Atlas Scaling Factor (ASF)\n",
    "\n",
    "The **Atlas Scaling Factor (ASF)** is a one-parameter metric used for **head size normalization** in **morphometric** and **functional brain data analysis** across:\n",
    "\n",
    "- Young adults  \n",
    "- Older adults  \n",
    "- Patients with dementia  \n",
    "\n",
    "This approach relies on **automated atlas-based alignment**, providing a scalable and validated alternative to manual **Total Intracranial Volume (TIV)** measurements.\n",
    "\n",
    "---\n",
    "\n",
    "### Core Concept\n",
    "\n",
    "- ASF is derived from the **determinant of the transform matrix** used to align a subject's brain image with a reference **atlas**.\n",
    "- This determinant reflects **scaling** required to match individual head size to the atlas.\n",
    "\n",
    "> 📌 The method shows that a **single-parameter scaling factor** (ASF) provides a **reasonable estimate of TIV**, enabling efficient normalization across diverse subject groups.\n",
    "\n",
    "---\n",
    "\n",
    "### Highlights\n",
    "\n",
    "- **Validated** against manual TIV measurement  \n",
    "- **Reliable** for both structural and functional brain analyses  \n",
    "- Useful in studies involving **neurodegeneration**, **aging**, and **brain morphology**\n"
   ]
  },
  {
   "cell_type": "code",
   "execution_count": 2,
   "id": "63420c1f",
   "metadata": {},
   "outputs": [],
   "source": [
    "import plotly.express as px\n",
    "import pandas as pd"
   ]
  },
  {
   "cell_type": "code",
   "execution_count": 3,
   "id": "12279ff4",
   "metadata": {},
   "outputs": [
    {
     "data": {
      "application/vnd.microsoft.datawrangler.viewer.v0+json": {
       "columns": [
        {
         "name": "index",
         "rawType": "object",
         "type": "string"
        },
        {
         "name": "Visit",
         "rawType": "float64",
         "type": "float"
        },
        {
         "name": "MR Delay",
         "rawType": "float64",
         "type": "float"
        },
        {
         "name": "Age",
         "rawType": "float64",
         "type": "float"
        },
        {
         "name": "EDUC",
         "rawType": "float64",
         "type": "float"
        },
        {
         "name": "SES",
         "rawType": "float64",
         "type": "float"
        },
        {
         "name": "MMSE",
         "rawType": "float64",
         "type": "float"
        },
        {
         "name": "CDR",
         "rawType": "float64",
         "type": "float"
        },
        {
         "name": "eTIV",
         "rawType": "float64",
         "type": "float"
        },
        {
         "name": "nWBV",
         "rawType": "float64",
         "type": "float"
        },
        {
         "name": "ASF",
         "rawType": "float64",
         "type": "float"
        }
       ],
       "ref": "b7f70ac5-17f5-4629-b74a-f553531a8ddd",
       "rows": [
        [
         "count",
         "373.0",
         "373.0",
         "373.0",
         "373.0",
         "354.0",
         "371.0",
         "373.0",
         "373.0",
         "373.0",
         "373.0"
        ],
        [
         "mean",
         "1.8820375335120643",
         "595.1045576407507",
         "77.01340482573727",
         "14.597855227882038",
         "2.4604519774011298",
         "27.342318059299192",
         "0.29088471849865954",
         "1488.1286863270777",
         "0.7295683646112601",
         "1.1954611260053618"
        ],
        [
         "std",
         "0.9228428078767337",
         "635.4851184823334",
         "7.640957297993596",
         "2.8763394655221375",
         "1.1340048209544438",
         "3.683243872307289",
         "0.3745571149682981",
         "176.13928554255483",
         "0.0371350161790646",
         "0.1380919582804859"
        ],
        [
         "min",
         "1.0",
         "0.0",
         "60.0",
         "6.0",
         "1.0",
         "4.0",
         "0.0",
         "1106.0",
         "0.644",
         "0.876"
        ],
        [
         "25%",
         "1.0",
         "0.0",
         "71.0",
         "12.0",
         "2.0",
         "27.0",
         "0.0",
         "1357.0",
         "0.7",
         "1.099"
        ],
        [
         "50%",
         "2.0",
         "552.0",
         "77.0",
         "15.0",
         "2.0",
         "29.0",
         "0.0",
         "1470.0",
         "0.729",
         "1.194"
        ],
        [
         "75%",
         "2.0",
         "873.0",
         "82.0",
         "16.0",
         "3.0",
         "30.0",
         "0.5",
         "1597.0",
         "0.756",
         "1.293"
        ],
        [
         "max",
         "5.0",
         "2639.0",
         "98.0",
         "23.0",
         "5.0",
         "30.0",
         "2.0",
         "2004.0",
         "0.837",
         "1.587"
        ]
       ],
       "shape": {
        "columns": 10,
        "rows": 8
       }
      },
      "text/html": [
       "<div>\n",
       "<style scoped>\n",
       "    .dataframe tbody tr th:only-of-type {\n",
       "        vertical-align: middle;\n",
       "    }\n",
       "\n",
       "    .dataframe tbody tr th {\n",
       "        vertical-align: top;\n",
       "    }\n",
       "\n",
       "    .dataframe thead th {\n",
       "        text-align: right;\n",
       "    }\n",
       "</style>\n",
       "<table border=\"1\" class=\"dataframe\">\n",
       "  <thead>\n",
       "    <tr style=\"text-align: right;\">\n",
       "      <th></th>\n",
       "      <th>Visit</th>\n",
       "      <th>MR Delay</th>\n",
       "      <th>Age</th>\n",
       "      <th>EDUC</th>\n",
       "      <th>SES</th>\n",
       "      <th>MMSE</th>\n",
       "      <th>CDR</th>\n",
       "      <th>eTIV</th>\n",
       "      <th>nWBV</th>\n",
       "      <th>ASF</th>\n",
       "    </tr>\n",
       "  </thead>\n",
       "  <tbody>\n",
       "    <tr>\n",
       "      <th>count</th>\n",
       "      <td>373.000000</td>\n",
       "      <td>373.000000</td>\n",
       "      <td>373.000000</td>\n",
       "      <td>373.000000</td>\n",
       "      <td>354.000000</td>\n",
       "      <td>371.000000</td>\n",
       "      <td>373.000000</td>\n",
       "      <td>373.000000</td>\n",
       "      <td>373.000000</td>\n",
       "      <td>373.000000</td>\n",
       "    </tr>\n",
       "    <tr>\n",
       "      <th>mean</th>\n",
       "      <td>1.882038</td>\n",
       "      <td>595.104558</td>\n",
       "      <td>77.013405</td>\n",
       "      <td>14.597855</td>\n",
       "      <td>2.460452</td>\n",
       "      <td>27.342318</td>\n",
       "      <td>0.290885</td>\n",
       "      <td>1488.128686</td>\n",
       "      <td>0.729568</td>\n",
       "      <td>1.195461</td>\n",
       "    </tr>\n",
       "    <tr>\n",
       "      <th>std</th>\n",
       "      <td>0.922843</td>\n",
       "      <td>635.485118</td>\n",
       "      <td>7.640957</td>\n",
       "      <td>2.876339</td>\n",
       "      <td>1.134005</td>\n",
       "      <td>3.683244</td>\n",
       "      <td>0.374557</td>\n",
       "      <td>176.139286</td>\n",
       "      <td>0.037135</td>\n",
       "      <td>0.138092</td>\n",
       "    </tr>\n",
       "    <tr>\n",
       "      <th>min</th>\n",
       "      <td>1.000000</td>\n",
       "      <td>0.000000</td>\n",
       "      <td>60.000000</td>\n",
       "      <td>6.000000</td>\n",
       "      <td>1.000000</td>\n",
       "      <td>4.000000</td>\n",
       "      <td>0.000000</td>\n",
       "      <td>1106.000000</td>\n",
       "      <td>0.644000</td>\n",
       "      <td>0.876000</td>\n",
       "    </tr>\n",
       "    <tr>\n",
       "      <th>25%</th>\n",
       "      <td>1.000000</td>\n",
       "      <td>0.000000</td>\n",
       "      <td>71.000000</td>\n",
       "      <td>12.000000</td>\n",
       "      <td>2.000000</td>\n",
       "      <td>27.000000</td>\n",
       "      <td>0.000000</td>\n",
       "      <td>1357.000000</td>\n",
       "      <td>0.700000</td>\n",
       "      <td>1.099000</td>\n",
       "    </tr>\n",
       "    <tr>\n",
       "      <th>50%</th>\n",
       "      <td>2.000000</td>\n",
       "      <td>552.000000</td>\n",
       "      <td>77.000000</td>\n",
       "      <td>15.000000</td>\n",
       "      <td>2.000000</td>\n",
       "      <td>29.000000</td>\n",
       "      <td>0.000000</td>\n",
       "      <td>1470.000000</td>\n",
       "      <td>0.729000</td>\n",
       "      <td>1.194000</td>\n",
       "    </tr>\n",
       "    <tr>\n",
       "      <th>75%</th>\n",
       "      <td>2.000000</td>\n",
       "      <td>873.000000</td>\n",
       "      <td>82.000000</td>\n",
       "      <td>16.000000</td>\n",
       "      <td>3.000000</td>\n",
       "      <td>30.000000</td>\n",
       "      <td>0.500000</td>\n",
       "      <td>1597.000000</td>\n",
       "      <td>0.756000</td>\n",
       "      <td>1.293000</td>\n",
       "    </tr>\n",
       "    <tr>\n",
       "      <th>max</th>\n",
       "      <td>5.000000</td>\n",
       "      <td>2639.000000</td>\n",
       "      <td>98.000000</td>\n",
       "      <td>23.000000</td>\n",
       "      <td>5.000000</td>\n",
       "      <td>30.000000</td>\n",
       "      <td>2.000000</td>\n",
       "      <td>2004.000000</td>\n",
       "      <td>0.837000</td>\n",
       "      <td>1.587000</td>\n",
       "    </tr>\n",
       "  </tbody>\n",
       "</table>\n",
       "</div>"
      ],
      "text/plain": [
       "            Visit     MR Delay         Age        EDUC         SES  \\\n",
       "count  373.000000   373.000000  373.000000  373.000000  354.000000   \n",
       "mean     1.882038   595.104558   77.013405   14.597855    2.460452   \n",
       "std      0.922843   635.485118    7.640957    2.876339    1.134005   \n",
       "min      1.000000     0.000000   60.000000    6.000000    1.000000   \n",
       "25%      1.000000     0.000000   71.000000   12.000000    2.000000   \n",
       "50%      2.000000   552.000000   77.000000   15.000000    2.000000   \n",
       "75%      2.000000   873.000000   82.000000   16.000000    3.000000   \n",
       "max      5.000000  2639.000000   98.000000   23.000000    5.000000   \n",
       "\n",
       "             MMSE         CDR         eTIV        nWBV         ASF  \n",
       "count  371.000000  373.000000   373.000000  373.000000  373.000000  \n",
       "mean    27.342318    0.290885  1488.128686    0.729568    1.195461  \n",
       "std      3.683244    0.374557   176.139286    0.037135    0.138092  \n",
       "min      4.000000    0.000000  1106.000000    0.644000    0.876000  \n",
       "25%     27.000000    0.000000  1357.000000    0.700000    1.099000  \n",
       "50%     29.000000    0.000000  1470.000000    0.729000    1.194000  \n",
       "75%     30.000000    0.500000  1597.000000    0.756000    1.293000  \n",
       "max     30.000000    2.000000  2004.000000    0.837000    1.587000  "
      ]
     },
     "execution_count": 3,
     "metadata": {},
     "output_type": "execute_result"
    }
   ],
   "source": [
    "desc = df_l.describe()\n",
    "desc"
   ]
  },
  {
   "cell_type": "code",
   "execution_count": 12,
   "id": "2b2e7688",
   "metadata": {},
   "outputs": [
    {
     "data": {
      "application/vnd.plotly.v1+json": {
       "config": {
        "plotlyServerURL": "https://plot.ly"
       },
       "data": [
        {
         "colorbar": {
          "title": {
           "text": "Value"
          }
         },
         "colorscale": [
          [
           0,
           "rgb(5,48,97)"
          ],
          [
           0.1,
           "rgb(33,102,172)"
          ],
          [
           0.2,
           "rgb(67,147,195)"
          ],
          [
           0.3,
           "rgb(146,197,222)"
          ],
          [
           0.4,
           "rgb(209,229,240)"
          ],
          [
           0.5,
           "rgb(247,247,247)"
          ],
          [
           0.6,
           "rgb(253,219,199)"
          ],
          [
           0.7,
           "rgb(244,165,130)"
          ],
          [
           0.8,
           "rgb(214,96,77)"
          ],
          [
           0.9,
           "rgb(178,24,43)"
          ],
          [
           1,
           "rgb(103,0,31)"
          ]
         ],
         "hoverinfo": "text",
         "showscale": true,
         "text": [
          [
           "373.0",
           "373.0",
           "373.0",
           "373.0",
           "354.0",
           "371.0",
           "373.0",
           "373.0",
           "373.0",
           "373.0"
          ],
          [
           "1.88",
           "595.1",
           "77.01",
           "14.6",
           "2.46",
           "27.34",
           "0.29",
           "1488.13",
           "0.73",
           "1.2"
          ],
          [
           "0.92",
           "635.49",
           "7.64",
           "2.88",
           "1.13",
           "3.68",
           "0.37",
           "176.14",
           "0.04",
           "0.14"
          ],
          [
           "1.0",
           "0.0",
           "60.0",
           "6.0",
           "1.0",
           "4.0",
           "0.0",
           "1106.0",
           "0.64",
           "0.88"
          ],
          [
           "1.0",
           "0.0",
           "71.0",
           "12.0",
           "2.0",
           "27.0",
           "0.0",
           "1357.0",
           "0.7",
           "1.1"
          ],
          [
           "2.0",
           "552.0",
           "77.0",
           "15.0",
           "2.0",
           "29.0",
           "0.0",
           "1470.0",
           "0.73",
           "1.19"
          ],
          [
           "2.0",
           "873.0",
           "82.0",
           "16.0",
           "3.0",
           "30.0",
           "0.5",
           "1597.0",
           "0.76",
           "1.29"
          ],
          [
           "5.0",
           "2639.0",
           "98.0",
           "23.0",
           "5.0",
           "30.0",
           "2.0",
           "2004.0",
           "0.84",
           "1.59"
          ]
         ],
         "texttemplate": "%{text}",
         "type": "heatmap",
         "x": [
          "Visit",
          "MR Delay",
          "Age",
          "EDUC",
          "SES",
          "MMSE",
          "CDR",
          "eTIV",
          "nWBV",
          "ASF"
         ],
         "y": [
          "count",
          "mean",
          "std",
          "min",
          "25%",
          "50%",
          "75%",
          "max"
         ],
         "z": {
          "bdata": "AAAAAABQd0AAAAAAAFB3QAAAAAAAUHdAAAAAAABQd0AAAAAAACB2QAAAAAAAMHdAAAAAAABQd0AAAAAAAFB3QAAAAAAAUHdAAAAAAABQd0AMdoRj0xz+P5L8UCLWmIJAnAnqn9tAU0Dx/ZYUGjItQPSHQnIBrwNALYUFKKJXO0D75zbw2p3SP/c4WcaDQJdAOnNGwZ9Y5z9dUX3YmyDzP4C95aPth+0/dYLMheHbg0BiDyQcV5AeQMPkBES+AgdAOxc4PeIk8j+FBDaQSHcNQA140We++Nc/hEL0BnUEZkAWEA1gXAOjP1PgU07/rME/AAAAAAAA8D8AAAAAAAAAAAAAAAAAAE5AAAAAAAAAGEAAAAAAAADwPwAAAAAAABBAAAAAAAAAAAAAAAAAAEiRQM/3U+Olm+Q/1XjpJjEI7D8AAAAAAADwPwAAAAAAAAAAAAAAAADAUUAAAAAAAAAoQAAAAAAAAABAAAAAAAAAO0AAAAAAAAAAAAAAAAAANJVAZmZmZmZm5j8v3SQGgZXxPwAAAAAAAABAAAAAAABAgUAAAAAAAEBTQAAAAAAAAC5AAAAAAAAAAEAAAAAAAAA9QAAAAAAAAAAAAAAAAAD4lkCHFtnO91PnP7TIdr6fGvM/AAAAAAAAAEAAAAAAAEiLQAAAAAAAgFRAAAAAAAAAMEAAAAAAAAAIQAAAAAAAAD5AAAAAAAAA4D8AAAAAAPSYQP7UeOkmMeg/46WbxCCw9D8AAAAAAAAUQAAAAAAAnqRAAAAAAACAWEAAAAAAAAA3QAAAAAAAABRAAAAAAAAAPkAAAAAAAAAAQAAAAAAAUJ9AYhBYObTI6j8xCKwcWmT5Pw==",
          "dtype": "f8",
          "shape": "8, 10"
         }
        }
       ],
       "layout": {
        "font": {
         "size": 8
        },
        "height": 600,
        "template": {
         "data": {
          "bar": [
           {
            "error_x": {
             "color": "#2a3f5f"
            },
            "error_y": {
             "color": "#2a3f5f"
            },
            "marker": {
             "line": {
              "color": "#E5ECF6",
              "width": 0.5
             },
             "pattern": {
              "fillmode": "overlay",
              "size": 10,
              "solidity": 0.2
             }
            },
            "type": "bar"
           }
          ],
          "barpolar": [
           {
            "marker": {
             "line": {
              "color": "#E5ECF6",
              "width": 0.5
             },
             "pattern": {
              "fillmode": "overlay",
              "size": 10,
              "solidity": 0.2
             }
            },
            "type": "barpolar"
           }
          ],
          "carpet": [
           {
            "aaxis": {
             "endlinecolor": "#2a3f5f",
             "gridcolor": "white",
             "linecolor": "white",
             "minorgridcolor": "white",
             "startlinecolor": "#2a3f5f"
            },
            "baxis": {
             "endlinecolor": "#2a3f5f",
             "gridcolor": "white",
             "linecolor": "white",
             "minorgridcolor": "white",
             "startlinecolor": "#2a3f5f"
            },
            "type": "carpet"
           }
          ],
          "choropleth": [
           {
            "colorbar": {
             "outlinewidth": 0,
             "ticks": ""
            },
            "type": "choropleth"
           }
          ],
          "contour": [
           {
            "colorbar": {
             "outlinewidth": 0,
             "ticks": ""
            },
            "colorscale": [
             [
              0,
              "#0d0887"
             ],
             [
              0.1111111111111111,
              "#46039f"
             ],
             [
              0.2222222222222222,
              "#7201a8"
             ],
             [
              0.3333333333333333,
              "#9c179e"
             ],
             [
              0.4444444444444444,
              "#bd3786"
             ],
             [
              0.5555555555555556,
              "#d8576b"
             ],
             [
              0.6666666666666666,
              "#ed7953"
             ],
             [
              0.7777777777777778,
              "#fb9f3a"
             ],
             [
              0.8888888888888888,
              "#fdca26"
             ],
             [
              1,
              "#f0f921"
             ]
            ],
            "type": "contour"
           }
          ],
          "contourcarpet": [
           {
            "colorbar": {
             "outlinewidth": 0,
             "ticks": ""
            },
            "type": "contourcarpet"
           }
          ],
          "heatmap": [
           {
            "colorbar": {
             "outlinewidth": 0,
             "ticks": ""
            },
            "colorscale": [
             [
              0,
              "#0d0887"
             ],
             [
              0.1111111111111111,
              "#46039f"
             ],
             [
              0.2222222222222222,
              "#7201a8"
             ],
             [
              0.3333333333333333,
              "#9c179e"
             ],
             [
              0.4444444444444444,
              "#bd3786"
             ],
             [
              0.5555555555555556,
              "#d8576b"
             ],
             [
              0.6666666666666666,
              "#ed7953"
             ],
             [
              0.7777777777777778,
              "#fb9f3a"
             ],
             [
              0.8888888888888888,
              "#fdca26"
             ],
             [
              1,
              "#f0f921"
             ]
            ],
            "type": "heatmap"
           }
          ],
          "histogram": [
           {
            "marker": {
             "pattern": {
              "fillmode": "overlay",
              "size": 10,
              "solidity": 0.2
             }
            },
            "type": "histogram"
           }
          ],
          "histogram2d": [
           {
            "colorbar": {
             "outlinewidth": 0,
             "ticks": ""
            },
            "colorscale": [
             [
              0,
              "#0d0887"
             ],
             [
              0.1111111111111111,
              "#46039f"
             ],
             [
              0.2222222222222222,
              "#7201a8"
             ],
             [
              0.3333333333333333,
              "#9c179e"
             ],
             [
              0.4444444444444444,
              "#bd3786"
             ],
             [
              0.5555555555555556,
              "#d8576b"
             ],
             [
              0.6666666666666666,
              "#ed7953"
             ],
             [
              0.7777777777777778,
              "#fb9f3a"
             ],
             [
              0.8888888888888888,
              "#fdca26"
             ],
             [
              1,
              "#f0f921"
             ]
            ],
            "type": "histogram2d"
           }
          ],
          "histogram2dcontour": [
           {
            "colorbar": {
             "outlinewidth": 0,
             "ticks": ""
            },
            "colorscale": [
             [
              0,
              "#0d0887"
             ],
             [
              0.1111111111111111,
              "#46039f"
             ],
             [
              0.2222222222222222,
              "#7201a8"
             ],
             [
              0.3333333333333333,
              "#9c179e"
             ],
             [
              0.4444444444444444,
              "#bd3786"
             ],
             [
              0.5555555555555556,
              "#d8576b"
             ],
             [
              0.6666666666666666,
              "#ed7953"
             ],
             [
              0.7777777777777778,
              "#fb9f3a"
             ],
             [
              0.8888888888888888,
              "#fdca26"
             ],
             [
              1,
              "#f0f921"
             ]
            ],
            "type": "histogram2dcontour"
           }
          ],
          "mesh3d": [
           {
            "colorbar": {
             "outlinewidth": 0,
             "ticks": ""
            },
            "type": "mesh3d"
           }
          ],
          "parcoords": [
           {
            "line": {
             "colorbar": {
              "outlinewidth": 0,
              "ticks": ""
             }
            },
            "type": "parcoords"
           }
          ],
          "pie": [
           {
            "automargin": true,
            "type": "pie"
           }
          ],
          "scatter": [
           {
            "fillpattern": {
             "fillmode": "overlay",
             "size": 10,
             "solidity": 0.2
            },
            "type": "scatter"
           }
          ],
          "scatter3d": [
           {
            "line": {
             "colorbar": {
              "outlinewidth": 0,
              "ticks": ""
             }
            },
            "marker": {
             "colorbar": {
              "outlinewidth": 0,
              "ticks": ""
             }
            },
            "type": "scatter3d"
           }
          ],
          "scattercarpet": [
           {
            "marker": {
             "colorbar": {
              "outlinewidth": 0,
              "ticks": ""
             }
            },
            "type": "scattercarpet"
           }
          ],
          "scattergeo": [
           {
            "marker": {
             "colorbar": {
              "outlinewidth": 0,
              "ticks": ""
             }
            },
            "type": "scattergeo"
           }
          ],
          "scattergl": [
           {
            "marker": {
             "colorbar": {
              "outlinewidth": 0,
              "ticks": ""
             }
            },
            "type": "scattergl"
           }
          ],
          "scattermap": [
           {
            "marker": {
             "colorbar": {
              "outlinewidth": 0,
              "ticks": ""
             }
            },
            "type": "scattermap"
           }
          ],
          "scattermapbox": [
           {
            "marker": {
             "colorbar": {
              "outlinewidth": 0,
              "ticks": ""
             }
            },
            "type": "scattermapbox"
           }
          ],
          "scatterpolar": [
           {
            "marker": {
             "colorbar": {
              "outlinewidth": 0,
              "ticks": ""
             }
            },
            "type": "scatterpolar"
           }
          ],
          "scatterpolargl": [
           {
            "marker": {
             "colorbar": {
              "outlinewidth": 0,
              "ticks": ""
             }
            },
            "type": "scatterpolargl"
           }
          ],
          "scatterternary": [
           {
            "marker": {
             "colorbar": {
              "outlinewidth": 0,
              "ticks": ""
             }
            },
            "type": "scatterternary"
           }
          ],
          "surface": [
           {
            "colorbar": {
             "outlinewidth": 0,
             "ticks": ""
            },
            "colorscale": [
             [
              0,
              "#0d0887"
             ],
             [
              0.1111111111111111,
              "#46039f"
             ],
             [
              0.2222222222222222,
              "#7201a8"
             ],
             [
              0.3333333333333333,
              "#9c179e"
             ],
             [
              0.4444444444444444,
              "#bd3786"
             ],
             [
              0.5555555555555556,
              "#d8576b"
             ],
             [
              0.6666666666666666,
              "#ed7953"
             ],
             [
              0.7777777777777778,
              "#fb9f3a"
             ],
             [
              0.8888888888888888,
              "#fdca26"
             ],
             [
              1,
              "#f0f921"
             ]
            ],
            "type": "surface"
           }
          ],
          "table": [
           {
            "cells": {
             "fill": {
              "color": "#EBF0F8"
             },
             "line": {
              "color": "white"
             }
            },
            "header": {
             "fill": {
              "color": "#C8D4E3"
             },
             "line": {
              "color": "white"
             }
            },
            "type": "table"
           }
          ]
         },
         "layout": {
          "annotationdefaults": {
           "arrowcolor": "#2a3f5f",
           "arrowhead": 0,
           "arrowwidth": 1
          },
          "autotypenumbers": "strict",
          "coloraxis": {
           "colorbar": {
            "outlinewidth": 0,
            "ticks": ""
           }
          },
          "colorscale": {
           "diverging": [
            [
             0,
             "#8e0152"
            ],
            [
             0.1,
             "#c51b7d"
            ],
            [
             0.2,
             "#de77ae"
            ],
            [
             0.3,
             "#f1b6da"
            ],
            [
             0.4,
             "#fde0ef"
            ],
            [
             0.5,
             "#f7f7f7"
            ],
            [
             0.6,
             "#e6f5d0"
            ],
            [
             0.7,
             "#b8e186"
            ],
            [
             0.8,
             "#7fbc41"
            ],
            [
             0.9,
             "#4d9221"
            ],
            [
             1,
             "#276419"
            ]
           ],
           "sequential": [
            [
             0,
             "#0d0887"
            ],
            [
             0.1111111111111111,
             "#46039f"
            ],
            [
             0.2222222222222222,
             "#7201a8"
            ],
            [
             0.3333333333333333,
             "#9c179e"
            ],
            [
             0.4444444444444444,
             "#bd3786"
            ],
            [
             0.5555555555555556,
             "#d8576b"
            ],
            [
             0.6666666666666666,
             "#ed7953"
            ],
            [
             0.7777777777777778,
             "#fb9f3a"
            ],
            [
             0.8888888888888888,
             "#fdca26"
            ],
            [
             1,
             "#f0f921"
            ]
           ],
           "sequentialminus": [
            [
             0,
             "#0d0887"
            ],
            [
             0.1111111111111111,
             "#46039f"
            ],
            [
             0.2222222222222222,
             "#7201a8"
            ],
            [
             0.3333333333333333,
             "#9c179e"
            ],
            [
             0.4444444444444444,
             "#bd3786"
            ],
            [
             0.5555555555555556,
             "#d8576b"
            ],
            [
             0.6666666666666666,
             "#ed7953"
            ],
            [
             0.7777777777777778,
             "#fb9f3a"
            ],
            [
             0.8888888888888888,
             "#fdca26"
            ],
            [
             1,
             "#f0f921"
            ]
           ]
          },
          "colorway": [
           "#636efa",
           "#EF553B",
           "#00cc96",
           "#ab63fa",
           "#FFA15A",
           "#19d3f3",
           "#FF6692",
           "#B6E880",
           "#FF97FF",
           "#FECB52"
          ],
          "font": {
           "color": "#2a3f5f"
          },
          "geo": {
           "bgcolor": "white",
           "lakecolor": "white",
           "landcolor": "#E5ECF6",
           "showlakes": true,
           "showland": true,
           "subunitcolor": "white"
          },
          "hoverlabel": {
           "align": "left"
          },
          "hovermode": "closest",
          "mapbox": {
           "style": "light"
          },
          "paper_bgcolor": "white",
          "plot_bgcolor": "#E5ECF6",
          "polar": {
           "angularaxis": {
            "gridcolor": "white",
            "linecolor": "white",
            "ticks": ""
           },
           "bgcolor": "#E5ECF6",
           "radialaxis": {
            "gridcolor": "white",
            "linecolor": "white",
            "ticks": ""
           }
          },
          "scene": {
           "xaxis": {
            "backgroundcolor": "#E5ECF6",
            "gridcolor": "white",
            "gridwidth": 2,
            "linecolor": "white",
            "showbackground": true,
            "ticks": "",
            "zerolinecolor": "white"
           },
           "yaxis": {
            "backgroundcolor": "#E5ECF6",
            "gridcolor": "white",
            "gridwidth": 2,
            "linecolor": "white",
            "showbackground": true,
            "ticks": "",
            "zerolinecolor": "white"
           },
           "zaxis": {
            "backgroundcolor": "#E5ECF6",
            "gridcolor": "white",
            "gridwidth": 2,
            "linecolor": "white",
            "showbackground": true,
            "ticks": "",
            "zerolinecolor": "white"
           }
          },
          "shapedefaults": {
           "line": {
            "color": "#2a3f5f"
           }
          },
          "ternary": {
           "aaxis": {
            "gridcolor": "white",
            "linecolor": "white",
            "ticks": ""
           },
           "baxis": {
            "gridcolor": "white",
            "linecolor": "white",
            "ticks": ""
           },
           "bgcolor": "#E5ECF6",
           "caxis": {
            "gridcolor": "white",
            "linecolor": "white",
            "ticks": ""
           }
          },
          "title": {
           "x": 0.05
          },
          "xaxis": {
           "automargin": true,
           "gridcolor": "white",
           "linecolor": "white",
           "ticks": "",
           "title": {
            "standoff": 15
           },
           "zerolinecolor": "white",
           "zerolinewidth": 2
          },
          "yaxis": {
           "automargin": true,
           "gridcolor": "white",
           "linecolor": "white",
           "ticks": "",
           "title": {
            "standoff": 15
           },
           "zerolinecolor": "white",
           "zerolinewidth": 2
          }
         }
        },
        "title": {
         "text": "Descriptive Statistics Heatmap"
        },
        "width": 800,
        "xaxis": {
         "showgrid": true,
         "side": "top",
         "ticks": ""
        },
        "yaxis": {
         "showgrid": true,
         "ticks": ""
        }
       }
      }
     },
     "metadata": {},
     "output_type": "display_data"
    }
   ],
   "source": [
    "import plotly.graph_objects as go\n",
    "fig = go.Figure(data=go.Heatmap(\n",
    "    z=desc.values,\n",
    "    x=desc.columns,\n",
    "    y=desc.index,\n",
    "    colorscale='RdBu_r',\n",
    "    colorbar=dict(title='Value'),\n",
    "    showscale=True,\n",
    "    zmin=None,\n",
    "    zmax=None,\n",
    "    text=desc.round(2).astype(str).values,  # Optional: show values\n",
    "    texttemplate=\"%{text}\",  # Display value in cell\n",
    "    hoverinfo=\"text\"  # Only show value on hover\n",
    "))\n",
    "\n",
    "# Add gridlines using layout\n",
    "fig.update_layout(\n",
    "    title='Descriptive Statistics Heatmap',\n",
    "    xaxis=dict(showgrid=True, ticks='', side='top'),\n",
    "    yaxis=dict(showgrid=True, ticks=''),\n",
    "    width=800,\n",
    "    height=600,\n",
    "    font=dict(size=8),\n",
    ")\n",
    "\n",
    "fig.show()"
   ]
  },
  {
   "cell_type": "code",
   "execution_count": 13,
   "id": "3b56cfcb",
   "metadata": {},
   "outputs": [
    {
     "data": {
      "application/vnd.plotly.v1+json": {
       "config": {
        "plotlyServerURL": "https://plot.ly"
       },
       "data": [
        {
         "colorbar": {
          "title": {
           "text": "Correlation"
          }
         },
         "colorscale": [
          [
           0,
           "rgb(5,48,97)"
          ],
          [
           0.1,
           "rgb(33,102,172)"
          ],
          [
           0.2,
           "rgb(67,147,195)"
          ],
          [
           0.3,
           "rgb(146,197,222)"
          ],
          [
           0.4,
           "rgb(209,229,240)"
          ],
          [
           0.5,
           "rgb(247,247,247)"
          ],
          [
           0.6,
           "rgb(253,219,199)"
          ],
          [
           0.7,
           "rgb(244,165,130)"
          ],
          [
           0.8,
           "rgb(214,96,77)"
          ],
          [
           0.9,
           "rgb(178,24,43)"
          ],
          [
           1,
           "rgb(103,0,31)"
          ]
         ],
         "hoverinfo": "text",
         "text": [
          [
           "1.0",
           "0.92",
           "0.18",
           "0.02",
           "-0.05",
           "-0.03",
           "0.0",
           "0.12",
           "-0.13",
           "-0.12"
          ],
          [
           "0.92",
           "1.0",
           "0.21",
           "0.05",
           "-0.03",
           "0.07",
           "-0.06",
           "0.12",
           "-0.11",
           "-0.12"
          ],
          [
           "0.18",
           "0.21",
           "1.0",
           "-0.03",
           "-0.05",
           "0.06",
           "-0.03",
           "0.04",
           "-0.52",
           "-0.04"
          ],
          [
           "0.02",
           "0.05",
           "-0.03",
           "1.0",
           "-0.72",
           "0.19",
           "-0.15",
           "0.26",
           "-0.01",
           "-0.24"
          ],
          [
           "-0.05",
           "-0.03",
           "-0.05",
           "-0.72",
           "1.0",
           "-0.15",
           "0.08",
           "-0.26",
           "0.09",
           "0.26"
          ],
          [
           "-0.03",
           "0.07",
           "0.06",
           "0.19",
           "-0.15",
           "1.0",
           "-0.69",
           "-0.03",
           "0.34",
           "0.04"
          ],
          [
           "0.0",
           "-0.06",
           "-0.03",
           "-0.15",
           "0.08",
           "-0.69",
           "1.0",
           "0.02",
           "-0.34",
           "-0.03"
          ],
          [
           "0.12",
           "0.12",
           "0.04",
           "0.26",
           "-0.26",
           "-0.03",
           "0.02",
           "1.0",
           "-0.21",
           "-0.99"
          ],
          [
           "-0.13",
           "-0.11",
           "-0.52",
           "-0.01",
           "0.09",
           "0.34",
           "-0.34",
           "-0.21",
           "1.0",
           "0.21"
          ],
          [
           "-0.12",
           "-0.12",
           "-0.04",
           "-0.24",
           "0.26",
           "0.04",
           "-0.03",
           "-0.99",
           "0.21",
           "1.0"
          ]
         ],
         "texttemplate": "%{text}",
         "type": "heatmap",
         "x": [
          "Visit",
          "MR Delay",
          "Age",
          "EDUC",
          "SES",
          "MMSE",
          "CDR",
          "eTIV",
          "nWBV",
          "ASF"
         ],
         "y": [
          "Visit",
          "MR Delay",
          "Age",
          "EDUC",
          "SES",
          "MMSE",
          "CDR",
          "eTIV",
          "nWBV",
          "ASF"
         ],
         "z": {
          "bdata": "AAAAAAAA8D96gNbGtnDtP68iZ2+Fc8c/hp7dWZ40mT8pGxjmMm6qv3LjoLq4xp2/OkEfsF0LYz+dxrU3xA++P3bzO3wgN8C/q2gmAHjSvr96gNbGtnDtPwAAAAAAAPA/FJ2jLSdJyj/IjyYyPG+qP6KKvzGIjZ+/Yv/73iXbsD+891GpMxuwv2nsvJWon74/IXTjGLYHu79kNsf4nKC/v68iZ2+Fc8c/FJ2jLSdJyj8AAAAAAADwP2LSOFYajpy/M8w1Zpr9p79hTRceM3msP2TMZ/IP45q/RiabHLGupT8ekQgNZpbgv5A6YAlE9KG/hp7dWZ40mT/IjyYyPG+qP2LSOFYajpy/AAAAAAAA8D9m+xQv7R/nv3OQ8Hf48cg/du0AOHuZw78NF/NM73LQPyqoo5cf/Ii/B0S9z7rxzr8pGxjmMm6qv6KKvzGIjZ+/M8w1Zpr9p79m+xQv7R/nvwAAAAAAAPA/Vq7JPZkZw78agWOAOH+zP9iqpySlvdC/LM+JJHsQtz8fg3NBXVvQP3LjoLq4xp2/Yv/73iXbsD9hTRceM3msP3OQ8Hf48cg/Vq7JPZkZw78AAAAAAADwP/MyIbH39+W/SdkRIUptoL+2I9KW5OHVP7pYVpG3gaQ/OkEfsF0LYz+891GpMxuwv2TMZ/IP45q/du0AOHuZw78agWOAOH+zP/MyIbH39+W/AAAAAAAA8D+5vbPR6F2XP3XkeC+DEda/6ykmekoLnr+dxrU3xA++P2nsvJWon74/RiabHLGupT8NF/NM73LQP9iqpySlvdC/SdkRIUptoL+5vbPR6F2XPwAAAAAAAPA/lbYzmkXlyr8BIulg4KTvv3bzO3wgN8C/IXTjGLYHu78ekQgNZpbgvyqoo5cf/Ii/LM+JJHsQtz+2I9KW5OHVP3XkeC+DEda/lbYzmkXlyr8AAAAAAADwPwmELKgvU8s/q2gmAHjSvr9kNsf4nKC/v5A6YAlE9KG/B0S9z7rxzr8fg3NBXVvQP7pYVpG3gaQ/6ykmekoLnr8BIulg4KTvvwmELKgvU8s/AAAAAAAA8D8=",
          "dtype": "f8",
          "shape": "10, 10"
         },
         "zmax": 1,
         "zmin": -1
        }
       ],
       "layout": {
        "font": {
         "size": 8
        },
        "height": 600,
        "template": {
         "data": {
          "bar": [
           {
            "error_x": {
             "color": "#2a3f5f"
            },
            "error_y": {
             "color": "#2a3f5f"
            },
            "marker": {
             "line": {
              "color": "#E5ECF6",
              "width": 0.5
             },
             "pattern": {
              "fillmode": "overlay",
              "size": 10,
              "solidity": 0.2
             }
            },
            "type": "bar"
           }
          ],
          "barpolar": [
           {
            "marker": {
             "line": {
              "color": "#E5ECF6",
              "width": 0.5
             },
             "pattern": {
              "fillmode": "overlay",
              "size": 10,
              "solidity": 0.2
             }
            },
            "type": "barpolar"
           }
          ],
          "carpet": [
           {
            "aaxis": {
             "endlinecolor": "#2a3f5f",
             "gridcolor": "white",
             "linecolor": "white",
             "minorgridcolor": "white",
             "startlinecolor": "#2a3f5f"
            },
            "baxis": {
             "endlinecolor": "#2a3f5f",
             "gridcolor": "white",
             "linecolor": "white",
             "minorgridcolor": "white",
             "startlinecolor": "#2a3f5f"
            },
            "type": "carpet"
           }
          ],
          "choropleth": [
           {
            "colorbar": {
             "outlinewidth": 0,
             "ticks": ""
            },
            "type": "choropleth"
           }
          ],
          "contour": [
           {
            "colorbar": {
             "outlinewidth": 0,
             "ticks": ""
            },
            "colorscale": [
             [
              0,
              "#0d0887"
             ],
             [
              0.1111111111111111,
              "#46039f"
             ],
             [
              0.2222222222222222,
              "#7201a8"
             ],
             [
              0.3333333333333333,
              "#9c179e"
             ],
             [
              0.4444444444444444,
              "#bd3786"
             ],
             [
              0.5555555555555556,
              "#d8576b"
             ],
             [
              0.6666666666666666,
              "#ed7953"
             ],
             [
              0.7777777777777778,
              "#fb9f3a"
             ],
             [
              0.8888888888888888,
              "#fdca26"
             ],
             [
              1,
              "#f0f921"
             ]
            ],
            "type": "contour"
           }
          ],
          "contourcarpet": [
           {
            "colorbar": {
             "outlinewidth": 0,
             "ticks": ""
            },
            "type": "contourcarpet"
           }
          ],
          "heatmap": [
           {
            "colorbar": {
             "outlinewidth": 0,
             "ticks": ""
            },
            "colorscale": [
             [
              0,
              "#0d0887"
             ],
             [
              0.1111111111111111,
              "#46039f"
             ],
             [
              0.2222222222222222,
              "#7201a8"
             ],
             [
              0.3333333333333333,
              "#9c179e"
             ],
             [
              0.4444444444444444,
              "#bd3786"
             ],
             [
              0.5555555555555556,
              "#d8576b"
             ],
             [
              0.6666666666666666,
              "#ed7953"
             ],
             [
              0.7777777777777778,
              "#fb9f3a"
             ],
             [
              0.8888888888888888,
              "#fdca26"
             ],
             [
              1,
              "#f0f921"
             ]
            ],
            "type": "heatmap"
           }
          ],
          "histogram": [
           {
            "marker": {
             "pattern": {
              "fillmode": "overlay",
              "size": 10,
              "solidity": 0.2
             }
            },
            "type": "histogram"
           }
          ],
          "histogram2d": [
           {
            "colorbar": {
             "outlinewidth": 0,
             "ticks": ""
            },
            "colorscale": [
             [
              0,
              "#0d0887"
             ],
             [
              0.1111111111111111,
              "#46039f"
             ],
             [
              0.2222222222222222,
              "#7201a8"
             ],
             [
              0.3333333333333333,
              "#9c179e"
             ],
             [
              0.4444444444444444,
              "#bd3786"
             ],
             [
              0.5555555555555556,
              "#d8576b"
             ],
             [
              0.6666666666666666,
              "#ed7953"
             ],
             [
              0.7777777777777778,
              "#fb9f3a"
             ],
             [
              0.8888888888888888,
              "#fdca26"
             ],
             [
              1,
              "#f0f921"
             ]
            ],
            "type": "histogram2d"
           }
          ],
          "histogram2dcontour": [
           {
            "colorbar": {
             "outlinewidth": 0,
             "ticks": ""
            },
            "colorscale": [
             [
              0,
              "#0d0887"
             ],
             [
              0.1111111111111111,
              "#46039f"
             ],
             [
              0.2222222222222222,
              "#7201a8"
             ],
             [
              0.3333333333333333,
              "#9c179e"
             ],
             [
              0.4444444444444444,
              "#bd3786"
             ],
             [
              0.5555555555555556,
              "#d8576b"
             ],
             [
              0.6666666666666666,
              "#ed7953"
             ],
             [
              0.7777777777777778,
              "#fb9f3a"
             ],
             [
              0.8888888888888888,
              "#fdca26"
             ],
             [
              1,
              "#f0f921"
             ]
            ],
            "type": "histogram2dcontour"
           }
          ],
          "mesh3d": [
           {
            "colorbar": {
             "outlinewidth": 0,
             "ticks": ""
            },
            "type": "mesh3d"
           }
          ],
          "parcoords": [
           {
            "line": {
             "colorbar": {
              "outlinewidth": 0,
              "ticks": ""
             }
            },
            "type": "parcoords"
           }
          ],
          "pie": [
           {
            "automargin": true,
            "type": "pie"
           }
          ],
          "scatter": [
           {
            "fillpattern": {
             "fillmode": "overlay",
             "size": 10,
             "solidity": 0.2
            },
            "type": "scatter"
           }
          ],
          "scatter3d": [
           {
            "line": {
             "colorbar": {
              "outlinewidth": 0,
              "ticks": ""
             }
            },
            "marker": {
             "colorbar": {
              "outlinewidth": 0,
              "ticks": ""
             }
            },
            "type": "scatter3d"
           }
          ],
          "scattercarpet": [
           {
            "marker": {
             "colorbar": {
              "outlinewidth": 0,
              "ticks": ""
             }
            },
            "type": "scattercarpet"
           }
          ],
          "scattergeo": [
           {
            "marker": {
             "colorbar": {
              "outlinewidth": 0,
              "ticks": ""
             }
            },
            "type": "scattergeo"
           }
          ],
          "scattergl": [
           {
            "marker": {
             "colorbar": {
              "outlinewidth": 0,
              "ticks": ""
             }
            },
            "type": "scattergl"
           }
          ],
          "scattermap": [
           {
            "marker": {
             "colorbar": {
              "outlinewidth": 0,
              "ticks": ""
             }
            },
            "type": "scattermap"
           }
          ],
          "scattermapbox": [
           {
            "marker": {
             "colorbar": {
              "outlinewidth": 0,
              "ticks": ""
             }
            },
            "type": "scattermapbox"
           }
          ],
          "scatterpolar": [
           {
            "marker": {
             "colorbar": {
              "outlinewidth": 0,
              "ticks": ""
             }
            },
            "type": "scatterpolar"
           }
          ],
          "scatterpolargl": [
           {
            "marker": {
             "colorbar": {
              "outlinewidth": 0,
              "ticks": ""
             }
            },
            "type": "scatterpolargl"
           }
          ],
          "scatterternary": [
           {
            "marker": {
             "colorbar": {
              "outlinewidth": 0,
              "ticks": ""
             }
            },
            "type": "scatterternary"
           }
          ],
          "surface": [
           {
            "colorbar": {
             "outlinewidth": 0,
             "ticks": ""
            },
            "colorscale": [
             [
              0,
              "#0d0887"
             ],
             [
              0.1111111111111111,
              "#46039f"
             ],
             [
              0.2222222222222222,
              "#7201a8"
             ],
             [
              0.3333333333333333,
              "#9c179e"
             ],
             [
              0.4444444444444444,
              "#bd3786"
             ],
             [
              0.5555555555555556,
              "#d8576b"
             ],
             [
              0.6666666666666666,
              "#ed7953"
             ],
             [
              0.7777777777777778,
              "#fb9f3a"
             ],
             [
              0.8888888888888888,
              "#fdca26"
             ],
             [
              1,
              "#f0f921"
             ]
            ],
            "type": "surface"
           }
          ],
          "table": [
           {
            "cells": {
             "fill": {
              "color": "#EBF0F8"
             },
             "line": {
              "color": "white"
             }
            },
            "header": {
             "fill": {
              "color": "#C8D4E3"
             },
             "line": {
              "color": "white"
             }
            },
            "type": "table"
           }
          ]
         },
         "layout": {
          "annotationdefaults": {
           "arrowcolor": "#2a3f5f",
           "arrowhead": 0,
           "arrowwidth": 1
          },
          "autotypenumbers": "strict",
          "coloraxis": {
           "colorbar": {
            "outlinewidth": 0,
            "ticks": ""
           }
          },
          "colorscale": {
           "diverging": [
            [
             0,
             "#8e0152"
            ],
            [
             0.1,
             "#c51b7d"
            ],
            [
             0.2,
             "#de77ae"
            ],
            [
             0.3,
             "#f1b6da"
            ],
            [
             0.4,
             "#fde0ef"
            ],
            [
             0.5,
             "#f7f7f7"
            ],
            [
             0.6,
             "#e6f5d0"
            ],
            [
             0.7,
             "#b8e186"
            ],
            [
             0.8,
             "#7fbc41"
            ],
            [
             0.9,
             "#4d9221"
            ],
            [
             1,
             "#276419"
            ]
           ],
           "sequential": [
            [
             0,
             "#0d0887"
            ],
            [
             0.1111111111111111,
             "#46039f"
            ],
            [
             0.2222222222222222,
             "#7201a8"
            ],
            [
             0.3333333333333333,
             "#9c179e"
            ],
            [
             0.4444444444444444,
             "#bd3786"
            ],
            [
             0.5555555555555556,
             "#d8576b"
            ],
            [
             0.6666666666666666,
             "#ed7953"
            ],
            [
             0.7777777777777778,
             "#fb9f3a"
            ],
            [
             0.8888888888888888,
             "#fdca26"
            ],
            [
             1,
             "#f0f921"
            ]
           ],
           "sequentialminus": [
            [
             0,
             "#0d0887"
            ],
            [
             0.1111111111111111,
             "#46039f"
            ],
            [
             0.2222222222222222,
             "#7201a8"
            ],
            [
             0.3333333333333333,
             "#9c179e"
            ],
            [
             0.4444444444444444,
             "#bd3786"
            ],
            [
             0.5555555555555556,
             "#d8576b"
            ],
            [
             0.6666666666666666,
             "#ed7953"
            ],
            [
             0.7777777777777778,
             "#fb9f3a"
            ],
            [
             0.8888888888888888,
             "#fdca26"
            ],
            [
             1,
             "#f0f921"
            ]
           ]
          },
          "colorway": [
           "#636efa",
           "#EF553B",
           "#00cc96",
           "#ab63fa",
           "#FFA15A",
           "#19d3f3",
           "#FF6692",
           "#B6E880",
           "#FF97FF",
           "#FECB52"
          ],
          "font": {
           "color": "#2a3f5f"
          },
          "geo": {
           "bgcolor": "white",
           "lakecolor": "white",
           "landcolor": "#E5ECF6",
           "showlakes": true,
           "showland": true,
           "subunitcolor": "white"
          },
          "hoverlabel": {
           "align": "left"
          },
          "hovermode": "closest",
          "mapbox": {
           "style": "light"
          },
          "paper_bgcolor": "white",
          "plot_bgcolor": "#E5ECF6",
          "polar": {
           "angularaxis": {
            "gridcolor": "white",
            "linecolor": "white",
            "ticks": ""
           },
           "bgcolor": "#E5ECF6",
           "radialaxis": {
            "gridcolor": "white",
            "linecolor": "white",
            "ticks": ""
           }
          },
          "scene": {
           "xaxis": {
            "backgroundcolor": "#E5ECF6",
            "gridcolor": "white",
            "gridwidth": 2,
            "linecolor": "white",
            "showbackground": true,
            "ticks": "",
            "zerolinecolor": "white"
           },
           "yaxis": {
            "backgroundcolor": "#E5ECF6",
            "gridcolor": "white",
            "gridwidth": 2,
            "linecolor": "white",
            "showbackground": true,
            "ticks": "",
            "zerolinecolor": "white"
           },
           "zaxis": {
            "backgroundcolor": "#E5ECF6",
            "gridcolor": "white",
            "gridwidth": 2,
            "linecolor": "white",
            "showbackground": true,
            "ticks": "",
            "zerolinecolor": "white"
           }
          },
          "shapedefaults": {
           "line": {
            "color": "#2a3f5f"
           }
          },
          "ternary": {
           "aaxis": {
            "gridcolor": "white",
            "linecolor": "white",
            "ticks": ""
           },
           "baxis": {
            "gridcolor": "white",
            "linecolor": "white",
            "ticks": ""
           },
           "bgcolor": "#E5ECF6",
           "caxis": {
            "gridcolor": "white",
            "linecolor": "white",
            "ticks": ""
           }
          },
          "title": {
           "x": 0.05
          },
          "xaxis": {
           "automargin": true,
           "gridcolor": "white",
           "linecolor": "white",
           "ticks": "",
           "title": {
            "standoff": 15
           },
           "zerolinecolor": "white",
           "zerolinewidth": 2
          },
          "yaxis": {
           "automargin": true,
           "gridcolor": "white",
           "linecolor": "white",
           "ticks": "",
           "title": {
            "standoff": 15
           },
           "zerolinecolor": "white",
           "zerolinewidth": 2
          }
         }
        },
        "title": {
         "text": "Correlation Matrix Heatmap"
        },
        "width": 800,
        "xaxis": {
         "showgrid": true,
         "side": "top",
         "ticks": ""
        },
        "yaxis": {
         "showgrid": true,
         "ticks": ""
        }
       }
      }
     },
     "metadata": {},
     "output_type": "display_data"
    }
   ],
   "source": [
    "# Compute correlation matrix\n",
    "corr = df_l.corr(numeric_only=True)\n",
    "\n",
    "# Create heatmap\n",
    "fig = go.Figure(data=go.Heatmap(\n",
    "    z=corr.values,\n",
    "    x=corr.columns,\n",
    "    y=corr.index,\n",
    "    colorscale='RdBu_r',  # diverging scale suitable for correlations\n",
    "    zmin=-1,\n",
    "    zmax=1,\n",
    "    colorbar=dict(title='Correlation'),\n",
    "    text=corr.round(2).astype(str).values,  # annotations\n",
    "    texttemplate=\"%{text}\",\n",
    "    hoverinfo=\"text\"\n",
    "))\n",
    "\n",
    "# Style layout for gridlines and clarity\n",
    "fig.update_layout(\n",
    "    title='Correlation Matrix Heatmap',\n",
    "    xaxis=dict(showgrid=True, ticks='', side='top'),\n",
    "    yaxis=dict(showgrid=True, ticks=''),\n",
    "    width=800,\n",
    "    height=600,\n",
    "    font=dict(size=8)\n",
    ")\n",
    "\n",
    "fig.show()\n"
   ]
  },
  {
   "cell_type": "code",
   "execution_count": 8,
   "id": "113d79aa",
   "metadata": {},
   "outputs": [
    {
     "data": {
      "application/vnd.microsoft.datawrangler.viewer.v0+json": {
       "columns": [
        {
         "name": "index",
         "rawType": "object",
         "type": "string"
        },
        {
         "name": "0",
         "rawType": "int64",
         "type": "integer"
        }
       ],
       "ref": "02e788e5-a65e-4e1c-9d3d-28ba498ebe4b",
       "rows": [
        [
         "Subject ID",
         "0"
        ],
        [
         "MRI ID",
         "0"
        ],
        [
         "Group",
         "0"
        ],
        [
         "Visit",
         "0"
        ],
        [
         "MR Delay",
         "0"
        ],
        [
         "M/F",
         "0"
        ],
        [
         "Hand",
         "0"
        ],
        [
         "Age",
         "0"
        ],
        [
         "EDUC",
         "0"
        ],
        [
         "SES",
         "19"
        ],
        [
         "MMSE",
         "2"
        ],
        [
         "CDR",
         "0"
        ],
        [
         "eTIV",
         "0"
        ],
        [
         "nWBV",
         "0"
        ],
        [
         "ASF",
         "0"
        ]
       ],
       "shape": {
        "columns": 1,
        "rows": 15
       }
      },
      "text/plain": [
       "Subject ID     0\n",
       "MRI ID         0\n",
       "Group          0\n",
       "Visit          0\n",
       "MR Delay       0\n",
       "M/F            0\n",
       "Hand           0\n",
       "Age            0\n",
       "EDUC           0\n",
       "SES           19\n",
       "MMSE           2\n",
       "CDR            0\n",
       "eTIV           0\n",
       "nWBV           0\n",
       "ASF            0\n",
       "dtype: int64"
      ]
     },
     "execution_count": 8,
     "metadata": {},
     "output_type": "execute_result"
    }
   ],
   "source": [
    "df_l.isna().sum()"
   ]
  },
  {
   "cell_type": "markdown",
   "id": "4cb3641e",
   "metadata": {},
   "source": [
    "The problem here is we have 3 categories , where we have demented nondemented and then converted , each of this class is unbalanced so their no way we will be able to interpolate and balance the data , here we have to use some other method during training, data augmentation is not an option here. So lets tune out xgboost in such a way that during training its aware of this problem and trains accordingly."
   ]
  },
  {
   "cell_type": "code",
   "execution_count": null,
   "id": "dcd9f628",
   "metadata": {},
   "outputs": [],
   "source": [
    "from sklearn.preprocessing import LabelEncoder\n",
    "\n",
    "le = LabelEncoder()\n",
    "df_l['patient_status_encoded'] = le.fit_transform(df_l['Group'])"
   ]
  },
  {
   "cell_type": "code",
   "execution_count": 48,
   "id": "5cefa74f",
   "metadata": {},
   "outputs": [],
   "source": [
    "df_l[\"M/F\"] = le.fit_transform(df_l[\"M/F\"])"
   ]
  },
  {
   "cell_type": "code",
   "execution_count": 49,
   "id": "75b21a76",
   "metadata": {},
   "outputs": [],
   "source": [
    "df_l[\"Hand\"] = le.fit_transform(df_l[\"Hand\"])"
   ]
  },
  {
   "cell_type": "code",
   "execution_count": 73,
   "id": "04efd069",
   "metadata": {},
   "outputs": [
    {
     "data": {
      "text/plain": [
       "{'R': np.int64(0)}"
      ]
     },
     "execution_count": 73,
     "metadata": {},
     "output_type": "execute_result"
    }
   ],
   "source": [
    "dict(zip(le.classes_, le.transform(le.classes_)))"
   ]
  },
  {
   "cell_type": "code",
   "execution_count": 50,
   "id": "c5eee655",
   "metadata": {},
   "outputs": [
    {
     "data": {
      "application/vnd.microsoft.datawrangler.viewer.v0+json": {
       "columns": [
        {
         "name": "index",
         "rawType": "int64",
         "type": "integer"
        },
        {
         "name": "Subject ID",
         "rawType": "object",
         "type": "string"
        },
        {
         "name": "MRI ID",
         "rawType": "object",
         "type": "string"
        },
        {
         "name": "Visit",
         "rawType": "int64",
         "type": "integer"
        },
        {
         "name": "MR Delay",
         "rawType": "int64",
         "type": "integer"
        },
        {
         "name": "M/F",
         "rawType": "int64",
         "type": "integer"
        },
        {
         "name": "Hand",
         "rawType": "int64",
         "type": "integer"
        },
        {
         "name": "Age",
         "rawType": "int64",
         "type": "integer"
        },
        {
         "name": "EDUC",
         "rawType": "int64",
         "type": "integer"
        },
        {
         "name": "SES",
         "rawType": "float64",
         "type": "float"
        },
        {
         "name": "MMSE",
         "rawType": "float64",
         "type": "float"
        },
        {
         "name": "CDR",
         "rawType": "float64",
         "type": "float"
        },
        {
         "name": "eTIV",
         "rawType": "int64",
         "type": "integer"
        },
        {
         "name": "nWBV",
         "rawType": "float64",
         "type": "float"
        },
        {
         "name": "ASF",
         "rawType": "float64",
         "type": "float"
        },
        {
         "name": "patient_status_encoded",
         "rawType": "int64",
         "type": "integer"
        }
       ],
       "ref": "18cc8e6f-acce-4dc2-87f3-16d6ea76ff3a",
       "rows": [
        [
         "0",
         "OAS2_0001",
         "OAS2_0001_MR1",
         "1",
         "0",
         "1",
         "0",
         "87",
         "14",
         "2.0",
         "27.0",
         "0.0",
         "1987",
         "0.696",
         "0.883",
         "2"
        ],
        [
         "1",
         "OAS2_0001",
         "OAS2_0001_MR2",
         "2",
         "457",
         "1",
         "0",
         "88",
         "14",
         "2.0",
         "30.0",
         "0.0",
         "2004",
         "0.681",
         "0.876",
         "2"
        ],
        [
         "2",
         "OAS2_0002",
         "OAS2_0002_MR1",
         "1",
         "0",
         "1",
         "0",
         "75",
         "12",
         null,
         "23.0",
         "0.5",
         "1678",
         "0.736",
         "1.046",
         "1"
        ],
        [
         "3",
         "OAS2_0002",
         "OAS2_0002_MR2",
         "2",
         "560",
         "1",
         "0",
         "76",
         "12",
         null,
         "28.0",
         "0.5",
         "1738",
         "0.713",
         "1.01",
         "1"
        ],
        [
         "4",
         "OAS2_0002",
         "OAS2_0002_MR3",
         "3",
         "1895",
         "1",
         "0",
         "80",
         "12",
         null,
         "22.0",
         "0.5",
         "1698",
         "0.701",
         "1.034",
         "1"
        ]
       ],
       "shape": {
        "columns": 15,
        "rows": 5
       }
      },
      "text/html": [
       "<div>\n",
       "<style scoped>\n",
       "    .dataframe tbody tr th:only-of-type {\n",
       "        vertical-align: middle;\n",
       "    }\n",
       "\n",
       "    .dataframe tbody tr th {\n",
       "        vertical-align: top;\n",
       "    }\n",
       "\n",
       "    .dataframe thead th {\n",
       "        text-align: right;\n",
       "    }\n",
       "</style>\n",
       "<table border=\"1\" class=\"dataframe\">\n",
       "  <thead>\n",
       "    <tr style=\"text-align: right;\">\n",
       "      <th></th>\n",
       "      <th>Subject ID</th>\n",
       "      <th>MRI ID</th>\n",
       "      <th>Visit</th>\n",
       "      <th>MR Delay</th>\n",
       "      <th>M/F</th>\n",
       "      <th>Hand</th>\n",
       "      <th>Age</th>\n",
       "      <th>EDUC</th>\n",
       "      <th>SES</th>\n",
       "      <th>MMSE</th>\n",
       "      <th>CDR</th>\n",
       "      <th>eTIV</th>\n",
       "      <th>nWBV</th>\n",
       "      <th>ASF</th>\n",
       "      <th>patient_status_encoded</th>\n",
       "    </tr>\n",
       "  </thead>\n",
       "  <tbody>\n",
       "    <tr>\n",
       "      <th>0</th>\n",
       "      <td>OAS2_0001</td>\n",
       "      <td>OAS2_0001_MR1</td>\n",
       "      <td>1</td>\n",
       "      <td>0</td>\n",
       "      <td>1</td>\n",
       "      <td>0</td>\n",
       "      <td>87</td>\n",
       "      <td>14</td>\n",
       "      <td>2.0</td>\n",
       "      <td>27.0</td>\n",
       "      <td>0.0</td>\n",
       "      <td>1987</td>\n",
       "      <td>0.696</td>\n",
       "      <td>0.883</td>\n",
       "      <td>2</td>\n",
       "    </tr>\n",
       "    <tr>\n",
       "      <th>1</th>\n",
       "      <td>OAS2_0001</td>\n",
       "      <td>OAS2_0001_MR2</td>\n",
       "      <td>2</td>\n",
       "      <td>457</td>\n",
       "      <td>1</td>\n",
       "      <td>0</td>\n",
       "      <td>88</td>\n",
       "      <td>14</td>\n",
       "      <td>2.0</td>\n",
       "      <td>30.0</td>\n",
       "      <td>0.0</td>\n",
       "      <td>2004</td>\n",
       "      <td>0.681</td>\n",
       "      <td>0.876</td>\n",
       "      <td>2</td>\n",
       "    </tr>\n",
       "    <tr>\n",
       "      <th>2</th>\n",
       "      <td>OAS2_0002</td>\n",
       "      <td>OAS2_0002_MR1</td>\n",
       "      <td>1</td>\n",
       "      <td>0</td>\n",
       "      <td>1</td>\n",
       "      <td>0</td>\n",
       "      <td>75</td>\n",
       "      <td>12</td>\n",
       "      <td>NaN</td>\n",
       "      <td>23.0</td>\n",
       "      <td>0.5</td>\n",
       "      <td>1678</td>\n",
       "      <td>0.736</td>\n",
       "      <td>1.046</td>\n",
       "      <td>1</td>\n",
       "    </tr>\n",
       "    <tr>\n",
       "      <th>3</th>\n",
       "      <td>OAS2_0002</td>\n",
       "      <td>OAS2_0002_MR2</td>\n",
       "      <td>2</td>\n",
       "      <td>560</td>\n",
       "      <td>1</td>\n",
       "      <td>0</td>\n",
       "      <td>76</td>\n",
       "      <td>12</td>\n",
       "      <td>NaN</td>\n",
       "      <td>28.0</td>\n",
       "      <td>0.5</td>\n",
       "      <td>1738</td>\n",
       "      <td>0.713</td>\n",
       "      <td>1.010</td>\n",
       "      <td>1</td>\n",
       "    </tr>\n",
       "    <tr>\n",
       "      <th>4</th>\n",
       "      <td>OAS2_0002</td>\n",
       "      <td>OAS2_0002_MR3</td>\n",
       "      <td>3</td>\n",
       "      <td>1895</td>\n",
       "      <td>1</td>\n",
       "      <td>0</td>\n",
       "      <td>80</td>\n",
       "      <td>12</td>\n",
       "      <td>NaN</td>\n",
       "      <td>22.0</td>\n",
       "      <td>0.5</td>\n",
       "      <td>1698</td>\n",
       "      <td>0.701</td>\n",
       "      <td>1.034</td>\n",
       "      <td>1</td>\n",
       "    </tr>\n",
       "  </tbody>\n",
       "</table>\n",
       "</div>"
      ],
      "text/plain": [
       "  Subject ID         MRI ID  Visit  MR Delay  M/F  Hand  Age  EDUC  SES  MMSE  \\\n",
       "0  OAS2_0001  OAS2_0001_MR1      1         0    1     0   87    14  2.0  27.0   \n",
       "1  OAS2_0001  OAS2_0001_MR2      2       457    1     0   88    14  2.0  30.0   \n",
       "2  OAS2_0002  OAS2_0002_MR1      1         0    1     0   75    12  NaN  23.0   \n",
       "3  OAS2_0002  OAS2_0002_MR2      2       560    1     0   76    12  NaN  28.0   \n",
       "4  OAS2_0002  OAS2_0002_MR3      3      1895    1     0   80    12  NaN  22.0   \n",
       "\n",
       "   CDR  eTIV   nWBV    ASF  patient_status_encoded  \n",
       "0  0.0  1987  0.696  0.883                       2  \n",
       "1  0.0  2004  0.681  0.876                       2  \n",
       "2  0.5  1678  0.736  1.046                       1  \n",
       "3  0.5  1738  0.713  1.010                       1  \n",
       "4  0.5  1698  0.701  1.034                       1  "
      ]
     },
     "execution_count": 50,
     "metadata": {},
     "output_type": "execute_result"
    }
   ],
   "source": [
    "df_l.head()"
   ]
  },
  {
   "cell_type": "code",
   "execution_count": 51,
   "id": "ce5969ac",
   "metadata": {},
   "outputs": [
    {
     "data": {
      "application/vnd.microsoft.datawrangler.viewer.v0+json": {
       "columns": [
        {
         "name": "M/F",
         "rawType": "int64",
         "type": "integer"
        },
        {
         "name": "count",
         "rawType": "int64",
         "type": "integer"
        }
       ],
       "ref": "f075f885-2ea0-4635-a2bd-d8685eef1c9e",
       "rows": [
        [
         "0",
         "213"
        ],
        [
         "1",
         "160"
        ]
       ],
       "shape": {
        "columns": 1,
        "rows": 2
       }
      },
      "text/plain": [
       "M/F\n",
       "0    213\n",
       "1    160\n",
       "Name: count, dtype: int64"
      ]
     },
     "execution_count": 51,
     "metadata": {},
     "output_type": "execute_result"
    }
   ],
   "source": [
    "df_l[\"M/F\"].value_counts()"
   ]
  },
  {
   "cell_type": "code",
   "execution_count": 20,
   "id": "22f9e48f",
   "metadata": {},
   "outputs": [],
   "source": [
    "df_l.drop(columns=['Group'], inplace=True)"
   ]
  },
  {
   "cell_type": "code",
   "execution_count": 22,
   "id": "2d7b6da3",
   "metadata": {},
   "outputs": [
    {
     "data": {
      "application/vnd.microsoft.datawrangler.viewer.v0+json": {
       "columns": [
        {
         "name": "patient_status_encoded",
         "rawType": "int64",
         "type": "integer"
        },
        {
         "name": "count",
         "rawType": "int64",
         "type": "integer"
        }
       ],
       "ref": "a7b22d07-c668-4f70-b821-98741b1a50d7",
       "rows": [
        [
         "2",
         "190"
        ],
        [
         "1",
         "146"
        ],
        [
         "0",
         "37"
        ]
       ],
       "shape": {
        "columns": 1,
        "rows": 3
       }
      },
      "text/plain": [
       "patient_status_encoded\n",
       "2    190\n",
       "1    146\n",
       "0     37\n",
       "Name: count, dtype: int64"
      ]
     },
     "execution_count": 22,
     "metadata": {},
     "output_type": "execute_result"
    }
   ],
   "source": [
    "df_l[\"patient_status_encoded\"].value_counts()"
   ]
  },
  {
   "cell_type": "code",
   "execution_count": null,
   "id": "1e3cda65",
   "metadata": {},
   "outputs": [],
   "source": [
    "from sklearn.model_selection import cross_val_score\n",
    "from lightgbm import LGBMClassifier\n",
    "# from mealpy.swarm_based import GWO\n",
    "# from mealpy.swarm_based.GWO import BaseGWO as GWO\n",
    "from mealpy import GWO"
   ]
  },
  {
   "cell_type": "code",
   "execution_count": 26,
   "id": "a077c882",
   "metadata": {},
   "outputs": [
    {
     "data": {
      "application/vnd.microsoft.datawrangler.viewer.v0+json": {
       "columns": [
        {
         "name": "index",
         "rawType": "int64",
         "type": "integer"
        },
        {
         "name": "Subject ID",
         "rawType": "object",
         "type": "string"
        },
        {
         "name": "MRI ID",
         "rawType": "object",
         "type": "string"
        },
        {
         "name": "Visit",
         "rawType": "int64",
         "type": "integer"
        },
        {
         "name": "MR Delay",
         "rawType": "int64",
         "type": "integer"
        },
        {
         "name": "M/F",
         "rawType": "object",
         "type": "string"
        },
        {
         "name": "Hand",
         "rawType": "object",
         "type": "string"
        },
        {
         "name": "Age",
         "rawType": "int64",
         "type": "integer"
        },
        {
         "name": "EDUC",
         "rawType": "int64",
         "type": "integer"
        },
        {
         "name": "SES",
         "rawType": "float64",
         "type": "float"
        },
        {
         "name": "MMSE",
         "rawType": "float64",
         "type": "float"
        },
        {
         "name": "CDR",
         "rawType": "float64",
         "type": "float"
        },
        {
         "name": "eTIV",
         "rawType": "int64",
         "type": "integer"
        },
        {
         "name": "nWBV",
         "rawType": "float64",
         "type": "float"
        },
        {
         "name": "ASF",
         "rawType": "float64",
         "type": "float"
        },
        {
         "name": "patient_status_encoded",
         "rawType": "int64",
         "type": "integer"
        }
       ],
       "ref": "7d9102b3-17a5-4b37-8a1c-43edcb008377",
       "rows": [
        [
         "0",
         "OAS2_0001",
         "OAS2_0001_MR1",
         "1",
         "0",
         "M",
         "R",
         "87",
         "14",
         "2.0",
         "27.0",
         "0.0",
         "1987",
         "0.696",
         "0.883",
         "2"
        ],
        [
         "1",
         "OAS2_0001",
         "OAS2_0001_MR2",
         "2",
         "457",
         "M",
         "R",
         "88",
         "14",
         "2.0",
         "30.0",
         "0.0",
         "2004",
         "0.681",
         "0.876",
         "2"
        ]
       ],
       "shape": {
        "columns": 15,
        "rows": 2
       }
      },
      "text/html": [
       "<div>\n",
       "<style scoped>\n",
       "    .dataframe tbody tr th:only-of-type {\n",
       "        vertical-align: middle;\n",
       "    }\n",
       "\n",
       "    .dataframe tbody tr th {\n",
       "        vertical-align: top;\n",
       "    }\n",
       "\n",
       "    .dataframe thead th {\n",
       "        text-align: right;\n",
       "    }\n",
       "</style>\n",
       "<table border=\"1\" class=\"dataframe\">\n",
       "  <thead>\n",
       "    <tr style=\"text-align: right;\">\n",
       "      <th></th>\n",
       "      <th>Subject ID</th>\n",
       "      <th>MRI ID</th>\n",
       "      <th>Visit</th>\n",
       "      <th>MR Delay</th>\n",
       "      <th>M/F</th>\n",
       "      <th>Hand</th>\n",
       "      <th>Age</th>\n",
       "      <th>EDUC</th>\n",
       "      <th>SES</th>\n",
       "      <th>MMSE</th>\n",
       "      <th>CDR</th>\n",
       "      <th>eTIV</th>\n",
       "      <th>nWBV</th>\n",
       "      <th>ASF</th>\n",
       "      <th>patient_status_encoded</th>\n",
       "    </tr>\n",
       "  </thead>\n",
       "  <tbody>\n",
       "    <tr>\n",
       "      <th>0</th>\n",
       "      <td>OAS2_0001</td>\n",
       "      <td>OAS2_0001_MR1</td>\n",
       "      <td>1</td>\n",
       "      <td>0</td>\n",
       "      <td>M</td>\n",
       "      <td>R</td>\n",
       "      <td>87</td>\n",
       "      <td>14</td>\n",
       "      <td>2.0</td>\n",
       "      <td>27.0</td>\n",
       "      <td>0.0</td>\n",
       "      <td>1987</td>\n",
       "      <td>0.696</td>\n",
       "      <td>0.883</td>\n",
       "      <td>2</td>\n",
       "    </tr>\n",
       "    <tr>\n",
       "      <th>1</th>\n",
       "      <td>OAS2_0001</td>\n",
       "      <td>OAS2_0001_MR2</td>\n",
       "      <td>2</td>\n",
       "      <td>457</td>\n",
       "      <td>M</td>\n",
       "      <td>R</td>\n",
       "      <td>88</td>\n",
       "      <td>14</td>\n",
       "      <td>2.0</td>\n",
       "      <td>30.0</td>\n",
       "      <td>0.0</td>\n",
       "      <td>2004</td>\n",
       "      <td>0.681</td>\n",
       "      <td>0.876</td>\n",
       "      <td>2</td>\n",
       "    </tr>\n",
       "  </tbody>\n",
       "</table>\n",
       "</div>"
      ],
      "text/plain": [
       "  Subject ID         MRI ID  Visit  MR Delay M/F Hand  Age  EDUC  SES  MMSE  \\\n",
       "0  OAS2_0001  OAS2_0001_MR1      1         0   M    R   87    14  2.0  27.0   \n",
       "1  OAS2_0001  OAS2_0001_MR2      2       457   M    R   88    14  2.0  30.0   \n",
       "\n",
       "   CDR  eTIV   nWBV    ASF  patient_status_encoded  \n",
       "0  0.0  1987  0.696  0.883                       2  \n",
       "1  0.0  2004  0.681  0.876                       2  "
      ]
     },
     "execution_count": 26,
     "metadata": {},
     "output_type": "execute_result"
    }
   ],
   "source": [
    "df_l.head(2)"
   ]
  },
  {
   "cell_type": "code",
   "execution_count": 52,
   "id": "f15d5e72",
   "metadata": {},
   "outputs": [],
   "source": [
    "target_col = 'patient_status_encoded'\n",
    "X = df_l.drop(columns=[target_col])\n",
    "y = df_l[target_col]\n",
    "\n",
    "X2=X.copy()"
   ]
  },
  {
   "cell_type": "code",
   "execution_count": 53,
   "id": "f81e77bd",
   "metadata": {},
   "outputs": [],
   "source": [
    "X.drop(columns=['Subject ID', 'MRI ID'], inplace=True)"
   ]
  },
  {
   "cell_type": "code",
   "execution_count": 54,
   "id": "fa91a3a7",
   "metadata": {},
   "outputs": [],
   "source": [
    "X = X.values\n",
    "y = y.values\n",
    "n_features = X.shape[1]"
   ]
  },
  {
   "cell_type": "code",
   "execution_count": 55,
   "id": "2e30af39",
   "metadata": {},
   "outputs": [
    {
     "data": {
      "text/plain": [
       "array([[1.000e+00, 0.000e+00, 1.000e+00, ..., 1.987e+03, 6.960e-01,\n",
       "        8.830e-01],\n",
       "       [2.000e+00, 4.570e+02, 1.000e+00, ..., 2.004e+03, 6.810e-01,\n",
       "        8.760e-01],\n",
       "       [1.000e+00, 0.000e+00, 1.000e+00, ..., 1.678e+03, 7.360e-01,\n",
       "        1.046e+00],\n",
       "       ...,\n",
       "       [1.000e+00, 0.000e+00, 0.000e+00, ..., 1.319e+03, 8.010e-01,\n",
       "        1.331e+00],\n",
       "       [2.000e+00, 7.630e+02, 0.000e+00, ..., 1.327e+03, 7.960e-01,\n",
       "        1.323e+00],\n",
       "       [3.000e+00, 1.608e+03, 0.000e+00, ..., 1.333e+03, 8.010e-01,\n",
       "        1.317e+00]], shape=(373, 12))"
      ]
     },
     "execution_count": 55,
     "metadata": {},
     "output_type": "execute_result"
    }
   ],
   "source": [
    "X"
   ]
  },
  {
   "cell_type": "code",
   "execution_count": 58,
   "id": "b1332ba3",
   "metadata": {},
   "outputs": [],
   "source": [
    "import warnings\n",
    "warnings.filterwarnings(\"ignore\", category=UserWarning)"
   ]
  },
  {
   "cell_type": "code",
   "execution_count": 59,
   "id": "40b71060",
   "metadata": {},
   "outputs": [
    {
     "name": "stderr",
     "output_type": "stream",
     "text": [
      "2025/06/26 01:50:29 PM, INFO, mealpy.swarm_based.GWO.OriginalGWO: OriginalGWO(epoch=30, pop_size=20)\n",
      "2025/06/26 01:50:33 PM, INFO, mealpy.swarm_based.GWO.OriginalGWO: >>>Problem: P, Epoch: 1, Current best: 0.1045806451612904, Global best: 0.1045806451612904, Runtime: 2.04412 seconds\n",
      "2025/06/26 01:50:35 PM, INFO, mealpy.swarm_based.GWO.OriginalGWO: >>>Problem: P, Epoch: 2, Current best: 0.10187096774193549, Global best: 0.10187096774193549, Runtime: 2.16791 seconds\n",
      "2025/06/26 01:50:37 PM, INFO, mealpy.swarm_based.GWO.OriginalGWO: >>>Problem: P, Epoch: 3, Current best: 0.10187096774193549, Global best: 0.10187096774193549, Runtime: 2.12395 seconds\n",
      "2025/06/26 01:50:39 PM, INFO, mealpy.swarm_based.GWO.OriginalGWO: >>>Problem: P, Epoch: 4, Current best: 0.0992043010752689, Global best: 0.0992043010752689, Runtime: 2.26028 seconds\n",
      "2025/06/26 01:50:42 PM, INFO, mealpy.swarm_based.GWO.OriginalGWO: >>>Problem: P, Epoch: 5, Current best: 0.0992043010752689, Global best: 0.0992043010752689, Runtime: 2.38476 seconds\n",
      "2025/06/26 01:50:44 PM, INFO, mealpy.swarm_based.GWO.OriginalGWO: >>>Problem: P, Epoch: 6, Current best: 0.09384946236559133, Global best: 0.09384946236559133, Runtime: 2.23822 seconds\n",
      "2025/06/26 01:51:09 PM, INFO, mealpy.swarm_based.GWO.OriginalGWO: >>>Problem: P, Epoch: 7, Current best: 0.09384946236559133, Global best: 0.09384946236559133, Runtime: 24.49529 seconds\n",
      "2025/06/26 01:51:34 PM, INFO, mealpy.swarm_based.GWO.OriginalGWO: >>>Problem: P, Epoch: 8, Current best: 0.09384946236559133, Global best: 0.09384946236559133, Runtime: 24.91496 seconds\n",
      "2025/06/26 01:51:50 PM, INFO, mealpy.swarm_based.GWO.OriginalGWO: >>>Problem: P, Epoch: 9, Current best: 0.09384946236559133, Global best: 0.09384946236559133, Runtime: 16.15891 seconds\n",
      "2025/06/26 01:51:53 PM, INFO, mealpy.swarm_based.GWO.OriginalGWO: >>>Problem: P, Epoch: 10, Current best: 0.09384946236559133, Global best: 0.09384946236559133, Runtime: 3.48776 seconds\n",
      "2025/06/26 01:52:04 PM, INFO, mealpy.swarm_based.GWO.OriginalGWO: >>>Problem: P, Epoch: 11, Current best: 0.09384946236559133, Global best: 0.09384946236559133, Runtime: 10.44618 seconds\n",
      "2025/06/26 01:52:29 PM, INFO, mealpy.swarm_based.GWO.OriginalGWO: >>>Problem: P, Epoch: 12, Current best: 0.09384946236559133, Global best: 0.09384946236559133, Runtime: 25.68923 seconds\n",
      "2025/06/26 01:52:54 PM, INFO, mealpy.swarm_based.GWO.OriginalGWO: >>>Problem: P, Epoch: 13, Current best: 0.09384946236559133, Global best: 0.09384946236559133, Runtime: 24.54906 seconds\n",
      "2025/06/26 01:53:19 PM, INFO, mealpy.swarm_based.GWO.OriginalGWO: >>>Problem: P, Epoch: 14, Current best: 0.09384946236559133, Global best: 0.09384946236559133, Runtime: 25.18312 seconds\n",
      "2025/06/26 01:53:44 PM, INFO, mealpy.swarm_based.GWO.OriginalGWO: >>>Problem: P, Epoch: 15, Current best: 0.09384946236559133, Global best: 0.09384946236559133, Runtime: 24.79636 seconds\n",
      "2025/06/26 01:54:09 PM, INFO, mealpy.swarm_based.GWO.OriginalGWO: >>>Problem: P, Epoch: 16, Current best: 0.09384946236559133, Global best: 0.09384946236559133, Runtime: 25.03593 seconds\n",
      "2025/06/26 01:54:35 PM, INFO, mealpy.swarm_based.GWO.OriginalGWO: >>>Problem: P, Epoch: 17, Current best: 0.09384946236559133, Global best: 0.09384946236559133, Runtime: 25.86374 seconds\n",
      "2025/06/26 01:55:00 PM, INFO, mealpy.swarm_based.GWO.OriginalGWO: >>>Problem: P, Epoch: 18, Current best: 0.09384946236559133, Global best: 0.09384946236559133, Runtime: 25.66053 seconds\n",
      "2025/06/26 01:55:26 PM, INFO, mealpy.swarm_based.GWO.OriginalGWO: >>>Problem: P, Epoch: 19, Current best: 0.09384946236559133, Global best: 0.09384946236559133, Runtime: 25.43723 seconds\n",
      "2025/06/26 01:55:51 PM, INFO, mealpy.swarm_based.GWO.OriginalGWO: >>>Problem: P, Epoch: 20, Current best: 0.09384946236559133, Global best: 0.09384946236559133, Runtime: 24.76602 seconds\n",
      "2025/06/26 01:56:16 PM, INFO, mealpy.swarm_based.GWO.OriginalGWO: >>>Problem: P, Epoch: 21, Current best: 0.09384946236559133, Global best: 0.09384946236559133, Runtime: 25.45260 seconds\n",
      "2025/06/26 01:56:42 PM, INFO, mealpy.swarm_based.GWO.OriginalGWO: >>>Problem: P, Epoch: 22, Current best: 0.09384946236559133, Global best: 0.09384946236559133, Runtime: 25.67299 seconds\n",
      "2025/06/26 01:57:00 PM, INFO, mealpy.swarm_based.GWO.OriginalGWO: >>>Problem: P, Epoch: 23, Current best: 0.09384946236559133, Global best: 0.09384946236559133, Runtime: 18.45618 seconds\n",
      "2025/06/26 01:57:05 PM, INFO, mealpy.swarm_based.GWO.OriginalGWO: >>>Problem: P, Epoch: 24, Current best: 0.09384946236559133, Global best: 0.09384946236559133, Runtime: 4.40377 seconds\n",
      "2025/06/26 01:57:07 PM, INFO, mealpy.swarm_based.GWO.OriginalGWO: >>>Problem: P, Epoch: 25, Current best: 0.09384946236559133, Global best: 0.09384946236559133, Runtime: 2.29041 seconds\n",
      "2025/06/26 01:57:09 PM, INFO, mealpy.swarm_based.GWO.OriginalGWO: >>>Problem: P, Epoch: 26, Current best: 0.09384946236559133, Global best: 0.09384946236559133, Runtime: 2.24466 seconds\n",
      "2025/06/26 01:57:11 PM, INFO, mealpy.swarm_based.GWO.OriginalGWO: >>>Problem: P, Epoch: 27, Current best: 0.09384946236559133, Global best: 0.09384946236559133, Runtime: 2.13632 seconds\n",
      "2025/06/26 01:57:13 PM, INFO, mealpy.swarm_based.GWO.OriginalGWO: >>>Problem: P, Epoch: 28, Current best: 0.09384946236559133, Global best: 0.09384946236559133, Runtime: 2.18197 seconds\n",
      "2025/06/26 01:57:16 PM, INFO, mealpy.swarm_based.GWO.OriginalGWO: >>>Problem: P, Epoch: 29, Current best: 0.09384946236559133, Global best: 0.09384946236559133, Runtime: 2.28351 seconds\n",
      "2025/06/26 01:57:18 PM, INFO, mealpy.swarm_based.GWO.OriginalGWO: >>>Problem: P, Epoch: 30, Current best: 0.09384946236559133, Global best: 0.09384946236559133, Runtime: 2.16142 seconds\n"
     ]
    },
    {
     "name": "stdout",
     "output_type": "stream",
     "text": [
      "✅ Selected Feature Indices: [4, 6, 8, 9, 11]\n",
      "✅ Selected Feature Names: ['M/F', 'Age', 'SES', 'MMSE', 'eTIV']\n"
     ]
    }
   ],
   "source": [
    "# 🧠 Define the fitness function for GWO\n",
    "from mealpy.utils.space import FloatVar\n",
    "def fitness_function(solution):\n",
    "    # Interpret solution as feature mask\n",
    "    selected_indices = [i for i in range(n_features) if solution[i] > 0.5]\n",
    "    \n",
    "    if len(selected_indices) == 0:\n",
    "        return 1  # Penalize empty feature sets\n",
    "    \n",
    "    X_selected = X[:, selected_indices]\n",
    "    \n",
    "    # Use LightGBM as the evaluator\n",
    "    clf = LGBMClassifier(objective='multiclass', num_class=3, verbosity=-1)\n",
    "    accuracy = cross_val_score(clf, X_selected, y, cv=3).mean()\n",
    "    \n",
    "    return 1 - accuracy  # GWO minimizes, so return error\n",
    "bounds = [FloatVar(lb=0.0, ub=1.0, name=f\"feature_{i}\") for i in range(n_features)]\n",
    "# 🐺 Define GWO problem\n",
    "problem = {\n",
    "    \"obj_func\": fitness_function,\n",
    "    \"bounds\": bounds,  # Each feature has bounds [0, 1]\n",
    "    \"minmax\": \"min\"\n",
    "}\n",
    "\n",
    "# 🚀 Run GWO\n",
    "model = GWO.OriginalGWO(epoch=30, pop_size=20)  # You can increase for better results\n",
    "best_agent = model.solve(problem)\n",
    "best_solution = best_agent.solution\n",
    "best_score = best_agent.target\n",
    "\n",
    "\n",
    "# 📌 Extract selected feature indices\n",
    "selected_features = [i for i in range(n_features) if best_solution[i] > 0.5]\n",
    "selected_feature_names = df_l.drop(columns=[target_col]).columns[selected_features]\n",
    "\n",
    "# 📢 Print results\n",
    "print(\"✅ Selected Feature Indices:\", selected_features)\n",
    "print(\"✅ Selected Feature Names:\", list(selected_feature_names))"
   ]
  },
  {
   "cell_type": "code",
   "execution_count": 60,
   "id": "c20d7992",
   "metadata": {},
   "outputs": [],
   "source": [
    "from sklearn.ensemble import RandomForestClassifier\n",
    "from sklearn.tree import DecisionTreeClassifier\n",
    "from xgboost import XGBClassifier\n",
    "from sklearn.model_selection import GridSearchCV, train_test_split\n",
    "from sklearn.metrics import classification_report\n",
    "import pandas as pd"
   ]
  },
  {
   "cell_type": "code",
   "execution_count": 61,
   "id": "44bb86f7",
   "metadata": {},
   "outputs": [],
   "source": [
    "X_train, X_test, y_train, y_test = train_test_split(X, y, test_size=0.2, random_state=42, stratify=y)"
   ]
  },
  {
   "cell_type": "code",
   "execution_count": 62,
   "id": "0c990b81",
   "metadata": {},
   "outputs": [],
   "source": [
    "param_grids = {\n",
    "    \"RandomForest\": {\n",
    "        'n_estimators': [50, 100, 200],\n",
    "        'max_depth': [None, 5, 10],\n",
    "        'min_samples_split': [2, 5],\n",
    "    },\n",
    "    \"DecisionTree\": {\n",
    "        'max_depth': [None, 5, 10],\n",
    "        'min_samples_split': [2, 5],\n",
    "    },\n",
    "    \"XGBoost\": {\n",
    "        'n_estimators': [50, 100],\n",
    "        'max_depth': [3, 6],\n",
    "        'learning_rate': [0.01, 0.1],\n",
    "        'subsample': [0.8, 1.0]\n",
    "    }\n",
    "}\n",
    "\n",
    "models = {\n",
    "    \"RandomForest\": RandomForestClassifier(random_state=42),\n",
    "    \"DecisionTree\": DecisionTreeClassifier(random_state=42),\n",
    "    \"XGBoost\": XGBClassifier(use_label_encoder=False, eval_metric='mlogloss', random_state=42)\n",
    "}"
   ]
  },
  {
   "cell_type": "code",
   "execution_count": 63,
   "id": "b7a2658f",
   "metadata": {},
   "outputs": [
    {
     "name": "stdout",
     "output_type": "stream",
     "text": [
      "\n",
      "🔍 Tuning RandomForest...\n",
      "Fitting 5 folds for each of 18 candidates, totalling 90 fits\n",
      "✅ Best Params for RandomForest: {'max_depth': None, 'min_samples_split': 5, 'n_estimators': 50}\n",
      "✅ CV Accuracy: 0.9128\n",
      "\n",
      "🔍 Tuning DecisionTree...\n",
      "Fitting 5 folds for each of 6 candidates, totalling 30 fits\n",
      "✅ Best Params for DecisionTree: {'max_depth': 5, 'min_samples_split': 5}\n",
      "✅ CV Accuracy: 0.8826\n",
      "\n",
      "🔍 Tuning XGBoost...\n",
      "Fitting 5 folds for each of 16 candidates, totalling 80 fits\n",
      "✅ Best Params for XGBoost: {'learning_rate': 0.1, 'max_depth': 3, 'n_estimators': 100, 'subsample': 0.8}\n",
      "✅ CV Accuracy: 0.9229\n"
     ]
    }
   ],
   "source": [
    "best_models = {}\n",
    "for name, model in models.items():\n",
    "    print(f\"\\n🔍 Tuning {name}...\")\n",
    "    grid = GridSearchCV(model, param_grids[name], cv=5, scoring='accuracy', verbose=1, n_jobs=-1)\n",
    "    grid.fit(X_train, y_train)\n",
    "    best_models[name] = grid.best_estimator_\n",
    "    \n",
    "    print(f\"✅ Best Params for {name}: {grid.best_params_}\")\n",
    "    print(f\"✅ CV Accuracy: {grid.best_score_:.4f}\")"
   ]
  },
  {
   "cell_type": "code",
   "execution_count": 64,
   "id": "b15a6c76",
   "metadata": {},
   "outputs": [
    {
     "name": "stdout",
     "output_type": "stream",
     "text": [
      "\n",
      "📊 Evaluation for RandomForest\n",
      "              precision    recall  f1-score   support\n",
      "\n",
      "           0       0.50      0.12      0.20         8\n",
      "           1       0.93      0.97      0.95        29\n",
      "           2       0.88      1.00      0.94        38\n",
      "\n",
      "    accuracy                           0.89        75\n",
      "   macro avg       0.77      0.70      0.70        75\n",
      "weighted avg       0.86      0.89      0.86        75\n",
      "\n",
      "\n",
      "📊 Evaluation for DecisionTree\n",
      "              precision    recall  f1-score   support\n",
      "\n",
      "           0       0.33      0.25      0.29         8\n",
      "           1       0.96      0.86      0.91        29\n",
      "           2       0.88      1.00      0.94        38\n",
      "\n",
      "    accuracy                           0.87        75\n",
      "   macro avg       0.73      0.70      0.71        75\n",
      "weighted avg       0.86      0.87      0.86        75\n",
      "\n",
      "\n",
      "📊 Evaluation for XGBoost\n",
      "              precision    recall  f1-score   support\n",
      "\n",
      "           0       0.67      0.25      0.36         8\n",
      "           1       0.97      0.97      0.97        29\n",
      "           2       0.88      1.00      0.94        38\n",
      "\n",
      "    accuracy                           0.91        75\n",
      "   macro avg       0.84      0.74      0.76        75\n",
      "weighted avg       0.89      0.91      0.89        75\n",
      "\n"
     ]
    }
   ],
   "source": [
    "# -------------------------------------\n",
    "# STEP 4: Evaluate on Test Set\n",
    "# -------------------------------------\n",
    "for name, model in best_models.items():\n",
    "    print(f\"\\n📊 Evaluation for {name}\")\n",
    "    y_pred = model.predict(X_test)\n",
    "    print(classification_report(y_test, y_pred))"
   ]
  },
  {
   "cell_type": "code",
   "execution_count": 66,
   "id": "b7e8e373",
   "metadata": {},
   "outputs": [],
   "source": [
    "y_t = pd.Series(y_train)\n",
    "y_te = pd.Series(y_test)\n"
   ]
  },
  {
   "cell_type": "code",
   "execution_count": null,
   "id": "fa502d85",
   "metadata": {},
   "outputs": [],
   "source": [
    "from sklearn.utils.class_weight import compute_class_weight\n",
    "import numpy as np\n",
    "\n",
    "# STEP 2: Compute class weights\n",
    "# Used for XGBoost (multi-class handling)\n",
    "# ----------------------------------------\n",
    "classes = np.unique(y_t)\n",
    "weights = compute_class_weight(class_weight='balanced', classes=classes, y=y_train)\n",
    "class_weights = dict(zip(classes, weights))\n",
    "sample_weights = y_t.map(class_weights)\n",
    "\n",
    "# ----------------------------------------\n",
    "# STEP 3: Train models with best params\n",
    "# ----------------------------------------\n",
    "\n",
    "# Random Forest\n",
    "rf_model = RandomForestClassifier(\n",
    "    n_estimators=50,\n",
    "    max_depth=None,\n",
    "    min_samples_split=5,\n",
    "    random_state=42\n",
    ")\n",
    "rf_model.fit(X_train, y_t)\n",
    "\n",
    "# Decision Tree\n",
    "dt_model = DecisionTreeClassifier(\n",
    "    max_depth=5,\n",
    "    min_samples_split=5,\n",
    "    random_state=42\n",
    ")\n",
    "dt_model.fit(X_train, y_t)\n",
    "\n",
    "# XGBoost (with sample weights)\n",
    "xgb_model = XGBClassifier(\n",
    "    learning_rate=0.1,\n",
    "    max_depth=3,\n",
    "    n_estimators=100,\n",
    "    subsample=0.8,\n",
    "    objective='multi:softprob',\n",
    "    num_class=3,\n",
    "    eval_metric='mlogloss',\n",
    "    use_label_encoder=False,\n",
    "    random_state=42\n",
    ")\n",
    "xgb_model.fit(X_train, y_t, sample_weight=sample_weights)"
   ]
  },
  {
   "cell_type": "code",
   "execution_count": 68,
   "id": "587f354c",
   "metadata": {},
   "outputs": [
    {
     "name": "stdout",
     "output_type": "stream",
     "text": [
      "\n",
      "📊 Random Forest - Test Set Evaluation\n",
      "✅ Accuracy: 0.8933\n",
      "🔎 Classification Report:\n",
      "              precision    recall  f1-score   support\n",
      "\n",
      "           0       0.50      0.12      0.20         8\n",
      "           1       0.93      0.97      0.95        29\n",
      "           2       0.88      1.00      0.94        38\n",
      "\n",
      "    accuracy                           0.89        75\n",
      "   macro avg       0.77      0.70      0.70        75\n",
      "weighted avg       0.86      0.89      0.86        75\n",
      "\n",
      "\n",
      "📊 Decision Tree - Test Set Evaluation\n",
      "✅ Accuracy: 0.8667\n",
      "🔎 Classification Report:\n",
      "              precision    recall  f1-score   support\n",
      "\n",
      "           0       0.33      0.25      0.29         8\n",
      "           1       0.96      0.86      0.91        29\n",
      "           2       0.88      1.00      0.94        38\n",
      "\n",
      "    accuracy                           0.87        75\n",
      "   macro avg       0.73      0.70      0.71        75\n",
      "weighted avg       0.86      0.87      0.86        75\n",
      "\n",
      "\n",
      "📊 XGBoost - Test Set Evaluation\n",
      "✅ Accuracy: 0.9067\n",
      "🔎 Classification Report:\n",
      "              precision    recall  f1-score   support\n",
      "\n",
      "           0       0.60      0.38      0.46         8\n",
      "           1       0.96      0.93      0.95        29\n",
      "           2       0.90      1.00      0.95        38\n",
      "\n",
      "    accuracy                           0.91        75\n",
      "   macro avg       0.82      0.77      0.79        75\n",
      "weighted avg       0.90      0.91      0.90        75\n",
      "\n"
     ]
    }
   ],
   "source": [
    "from sklearn.metrics import accuracy_score, classification_report\n",
    "\n",
    "models = {\n",
    "    \"Random Forest\": rf_model,\n",
    "    \"Decision Tree\": dt_model,\n",
    "    \"XGBoost\": xgb_model\n",
    "}\n",
    "\n",
    "for name, model in models.items():\n",
    "    print(f\"\\n📊 {name} - Test Set Evaluation\")\n",
    "    y_pred = model.predict(X_test)\n",
    "    \n",
    "    # Accuracy\n",
    "    acc = accuracy_score(y_test, y_pred)\n",
    "    print(f\"✅ Accuracy: {acc:.4f}\")\n",
    "    \n",
    "    # Detailed classification metrics\n",
    "    print(\"🔎 Classification Report:\")\n",
    "    print(classification_report(y_test, y_pred))\n"
   ]
  },
  {
   "cell_type": "code",
   "execution_count": 70,
   "id": "789cf8a1",
   "metadata": {},
   "outputs": [
    {
     "data": {
      "text/plain": [
       "['model.pkl']"
      ]
     },
     "execution_count": 70,
     "metadata": {},
     "output_type": "execute_result"
    }
   ],
   "source": [
    "import joblib\n",
    "joblib.dump(xgb_model, \"model.pkl\")\n"
   ]
  },
  {
   "cell_type": "code",
   "execution_count": 71,
   "id": "694064cd",
   "metadata": {},
   "outputs": [
    {
     "data": {
      "text/plain": [
       "<bound method IndexOpsMixin.tolist of Index(['Subject ID', 'MRI ID', 'Visit', 'MR Delay', 'M/F', 'Hand', 'Age',\n",
       "       'EDUC', 'SES', 'MMSE', 'CDR', 'eTIV', 'nWBV', 'ASF',\n",
       "       'patient_status_encoded'],\n",
       "      dtype='object')>"
      ]
     },
     "execution_count": 71,
     "metadata": {},
     "output_type": "execute_result"
    }
   ],
   "source": [
    "df_l.columns.to_list"
   ]
  },
  {
   "cell_type": "code",
   "execution_count": 72,
   "id": "cb182dd3",
   "metadata": {},
   "outputs": [
    {
     "data": {
      "application/vnd.microsoft.datawrangler.viewer.v0+json": {
       "columns": [
        {
         "name": "index",
         "rawType": "int64",
         "type": "integer"
        },
        {
         "name": "Subject ID",
         "rawType": "object",
         "type": "string"
        },
        {
         "name": "MRI ID",
         "rawType": "object",
         "type": "string"
        },
        {
         "name": "Visit",
         "rawType": "int64",
         "type": "integer"
        },
        {
         "name": "MR Delay",
         "rawType": "int64",
         "type": "integer"
        },
        {
         "name": "M/F",
         "rawType": "int64",
         "type": "integer"
        },
        {
         "name": "Hand",
         "rawType": "int64",
         "type": "integer"
        },
        {
         "name": "Age",
         "rawType": "int64",
         "type": "integer"
        },
        {
         "name": "EDUC",
         "rawType": "int64",
         "type": "integer"
        },
        {
         "name": "SES",
         "rawType": "float64",
         "type": "float"
        },
        {
         "name": "MMSE",
         "rawType": "float64",
         "type": "float"
        },
        {
         "name": "CDR",
         "rawType": "float64",
         "type": "float"
        },
        {
         "name": "eTIV",
         "rawType": "int64",
         "type": "integer"
        },
        {
         "name": "nWBV",
         "rawType": "float64",
         "type": "float"
        },
        {
         "name": "ASF",
         "rawType": "float64",
         "type": "float"
        },
        {
         "name": "patient_status_encoded",
         "rawType": "int64",
         "type": "integer"
        }
       ],
       "ref": "e6466631-c968-4650-baba-6953e321daa7",
       "rows": [
        [
         "0",
         "OAS2_0001",
         "OAS2_0001_MR1",
         "1",
         "0",
         "1",
         "0",
         "87",
         "14",
         "2.0",
         "27.0",
         "0.0",
         "1987",
         "0.696",
         "0.883",
         "2"
        ],
        [
         "1",
         "OAS2_0001",
         "OAS2_0001_MR2",
         "2",
         "457",
         "1",
         "0",
         "88",
         "14",
         "2.0",
         "30.0",
         "0.0",
         "2004",
         "0.681",
         "0.876",
         "2"
        ],
        [
         "2",
         "OAS2_0002",
         "OAS2_0002_MR1",
         "1",
         "0",
         "1",
         "0",
         "75",
         "12",
         null,
         "23.0",
         "0.5",
         "1678",
         "0.736",
         "1.046",
         "1"
        ],
        [
         "3",
         "OAS2_0002",
         "OAS2_0002_MR2",
         "2",
         "560",
         "1",
         "0",
         "76",
         "12",
         null,
         "28.0",
         "0.5",
         "1738",
         "0.713",
         "1.01",
         "1"
        ],
        [
         "4",
         "OAS2_0002",
         "OAS2_0002_MR3",
         "3",
         "1895",
         "1",
         "0",
         "80",
         "12",
         null,
         "22.0",
         "0.5",
         "1698",
         "0.701",
         "1.034",
         "1"
        ]
       ],
       "shape": {
        "columns": 15,
        "rows": 5
       }
      },
      "text/html": [
       "<div>\n",
       "<style scoped>\n",
       "    .dataframe tbody tr th:only-of-type {\n",
       "        vertical-align: middle;\n",
       "    }\n",
       "\n",
       "    .dataframe tbody tr th {\n",
       "        vertical-align: top;\n",
       "    }\n",
       "\n",
       "    .dataframe thead th {\n",
       "        text-align: right;\n",
       "    }\n",
       "</style>\n",
       "<table border=\"1\" class=\"dataframe\">\n",
       "  <thead>\n",
       "    <tr style=\"text-align: right;\">\n",
       "      <th></th>\n",
       "      <th>Subject ID</th>\n",
       "      <th>MRI ID</th>\n",
       "      <th>Visit</th>\n",
       "      <th>MR Delay</th>\n",
       "      <th>M/F</th>\n",
       "      <th>Hand</th>\n",
       "      <th>Age</th>\n",
       "      <th>EDUC</th>\n",
       "      <th>SES</th>\n",
       "      <th>MMSE</th>\n",
       "      <th>CDR</th>\n",
       "      <th>eTIV</th>\n",
       "      <th>nWBV</th>\n",
       "      <th>ASF</th>\n",
       "      <th>patient_status_encoded</th>\n",
       "    </tr>\n",
       "  </thead>\n",
       "  <tbody>\n",
       "    <tr>\n",
       "      <th>0</th>\n",
       "      <td>OAS2_0001</td>\n",
       "      <td>OAS2_0001_MR1</td>\n",
       "      <td>1</td>\n",
       "      <td>0</td>\n",
       "      <td>1</td>\n",
       "      <td>0</td>\n",
       "      <td>87</td>\n",
       "      <td>14</td>\n",
       "      <td>2.0</td>\n",
       "      <td>27.0</td>\n",
       "      <td>0.0</td>\n",
       "      <td>1987</td>\n",
       "      <td>0.696</td>\n",
       "      <td>0.883</td>\n",
       "      <td>2</td>\n",
       "    </tr>\n",
       "    <tr>\n",
       "      <th>1</th>\n",
       "      <td>OAS2_0001</td>\n",
       "      <td>OAS2_0001_MR2</td>\n",
       "      <td>2</td>\n",
       "      <td>457</td>\n",
       "      <td>1</td>\n",
       "      <td>0</td>\n",
       "      <td>88</td>\n",
       "      <td>14</td>\n",
       "      <td>2.0</td>\n",
       "      <td>30.0</td>\n",
       "      <td>0.0</td>\n",
       "      <td>2004</td>\n",
       "      <td>0.681</td>\n",
       "      <td>0.876</td>\n",
       "      <td>2</td>\n",
       "    </tr>\n",
       "    <tr>\n",
       "      <th>2</th>\n",
       "      <td>OAS2_0002</td>\n",
       "      <td>OAS2_0002_MR1</td>\n",
       "      <td>1</td>\n",
       "      <td>0</td>\n",
       "      <td>1</td>\n",
       "      <td>0</td>\n",
       "      <td>75</td>\n",
       "      <td>12</td>\n",
       "      <td>NaN</td>\n",
       "      <td>23.0</td>\n",
       "      <td>0.5</td>\n",
       "      <td>1678</td>\n",
       "      <td>0.736</td>\n",
       "      <td>1.046</td>\n",
       "      <td>1</td>\n",
       "    </tr>\n",
       "    <tr>\n",
       "      <th>3</th>\n",
       "      <td>OAS2_0002</td>\n",
       "      <td>OAS2_0002_MR2</td>\n",
       "      <td>2</td>\n",
       "      <td>560</td>\n",
       "      <td>1</td>\n",
       "      <td>0</td>\n",
       "      <td>76</td>\n",
       "      <td>12</td>\n",
       "      <td>NaN</td>\n",
       "      <td>28.0</td>\n",
       "      <td>0.5</td>\n",
       "      <td>1738</td>\n",
       "      <td>0.713</td>\n",
       "      <td>1.010</td>\n",
       "      <td>1</td>\n",
       "    </tr>\n",
       "    <tr>\n",
       "      <th>4</th>\n",
       "      <td>OAS2_0002</td>\n",
       "      <td>OAS2_0002_MR3</td>\n",
       "      <td>3</td>\n",
       "      <td>1895</td>\n",
       "      <td>1</td>\n",
       "      <td>0</td>\n",
       "      <td>80</td>\n",
       "      <td>12</td>\n",
       "      <td>NaN</td>\n",
       "      <td>22.0</td>\n",
       "      <td>0.5</td>\n",
       "      <td>1698</td>\n",
       "      <td>0.701</td>\n",
       "      <td>1.034</td>\n",
       "      <td>1</td>\n",
       "    </tr>\n",
       "  </tbody>\n",
       "</table>\n",
       "</div>"
      ],
      "text/plain": [
       "  Subject ID         MRI ID  Visit  MR Delay  M/F  Hand  Age  EDUC  SES  MMSE  \\\n",
       "0  OAS2_0001  OAS2_0001_MR1      1         0    1     0   87    14  2.0  27.0   \n",
       "1  OAS2_0001  OAS2_0001_MR2      2       457    1     0   88    14  2.0  30.0   \n",
       "2  OAS2_0002  OAS2_0002_MR1      1         0    1     0   75    12  NaN  23.0   \n",
       "3  OAS2_0002  OAS2_0002_MR2      2       560    1     0   76    12  NaN  28.0   \n",
       "4  OAS2_0002  OAS2_0002_MR3      3      1895    1     0   80    12  NaN  22.0   \n",
       "\n",
       "   CDR  eTIV   nWBV    ASF  patient_status_encoded  \n",
       "0  0.0  1987  0.696  0.883                       2  \n",
       "1  0.0  2004  0.681  0.876                       2  \n",
       "2  0.5  1678  0.736  1.046                       1  \n",
       "3  0.5  1738  0.713  1.010                       1  \n",
       "4  0.5  1698  0.701  1.034                       1  "
      ]
     },
     "execution_count": 72,
     "metadata": {},
     "output_type": "execute_result"
    }
   ],
   "source": [
    "df_l.head()"
   ]
  },
  {
   "cell_type": "code",
   "execution_count": null,
   "id": "d3b2c113",
   "metadata": {},
   "outputs": [],
   "source": []
  }
 ],
 "metadata": {
  "kernelspec": {
   "display_name": "env",
   "language": "python",
   "name": "python3"
  },
  "language_info": {
   "codemirror_mode": {
    "name": "ipython",
    "version": 3
   },
   "file_extension": ".py",
   "mimetype": "text/x-python",
   "name": "python",
   "nbconvert_exporter": "python",
   "pygments_lexer": "ipython3",
   "version": "3.10.0"
  }
 },
 "nbformat": 4,
 "nbformat_minor": 5
}
